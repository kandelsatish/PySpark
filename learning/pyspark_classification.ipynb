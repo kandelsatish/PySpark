{
  "cells": [
    {
      "cell_type": "code",
      "source": [
        "!pip install findspark"
      ],
      "metadata": {
        "colab": {
          "base_uri": "https://localhost:8080/"
        },
        "id": "ayDHo3OVEdYy",
        "outputId": "28664394-a4a9-4499-9285-1e773ff7d368"
      },
      "execution_count": 25,
      "outputs": [
        {
          "output_type": "stream",
          "name": "stdout",
          "text": [
            "Requirement already satisfied: findspark in /usr/local/lib/python3.10/dist-packages (2.0.1)\n"
          ]
        }
      ]
    },
    {
      "cell_type": "code",
      "execution_count": 26,
      "metadata": {
        "id": "VZMsaQLSEbJd"
      },
      "outputs": [],
      "source": [
        "import findspark\n",
        "findspark.init()"
      ]
    },
    {
      "cell_type": "code",
      "execution_count": 27,
      "metadata": {
        "colab": {
          "base_uri": "https://localhost:8080/",
          "height": 219
        },
        "id": "qMEJLcyfEbJh",
        "outputId": "aec8bc48-efd9-486b-a030-0f83e56662ac"
      },
      "outputs": [
        {
          "output_type": "execute_result",
          "data": {
            "text/plain": [
              "<pyspark.sql.session.SparkSession at 0x7fd2a6316ec0>"
            ],
            "text/html": [
              "\n",
              "            <div>\n",
              "                <p><b>SparkSession - in-memory</b></p>\n",
              "                \n",
              "        <div>\n",
              "            <p><b>SparkContext</b></p>\n",
              "\n",
              "            <p><a href=\"http://ae300e60b3e0:4040\">Spark UI</a></p>\n",
              "\n",
              "            <dl>\n",
              "              <dt>Version</dt>\n",
              "                <dd><code>v3.5.3</code></dd>\n",
              "              <dt>Master</dt>\n",
              "                <dd><code>local[*]</code></dd>\n",
              "              <dt>AppName</dt>\n",
              "                <dd><code>ML_classification_Example</code></dd>\n",
              "            </dl>\n",
              "        </div>\n",
              "        \n",
              "            </div>\n",
              "        "
            ]
          },
          "metadata": {},
          "execution_count": 27
        }
      ],
      "source": [
        "from pyspark.sql import SparkSession\n",
        "spark=SparkSession.builder.master(\"local[*]\").appName(\"ML_classification_Example\").getOrCreate()\n",
        "\n",
        "spark"
      ]
    },
    {
      "cell_type": "code",
      "execution_count": 43,
      "metadata": {
        "id": "BWrKOtgPEbJj"
      },
      "outputs": [],
      "source": [
        "import seaborn as sns\n",
        "import pandas as pd\n",
        "import numpy as np"
      ]
    },
    {
      "cell_type": "code",
      "execution_count": 29,
      "metadata": {
        "colab": {
          "base_uri": "https://localhost:8080/",
          "height": 206
        },
        "id": "oDCtU_d0EbJj",
        "outputId": "b26d5fd5-2373-43a4-9780-9ff3043d307d"
      },
      "outputs": [
        {
          "output_type": "execute_result",
          "data": {
            "text/plain": [
              "   sepal_length  sepal_width  petal_length  petal_width species\n",
              "0           5.1          3.5           1.4          0.2  setosa\n",
              "1           4.9          3.0           1.4          0.2  setosa\n",
              "2           4.7          3.2           1.3          0.2  setosa\n",
              "3           4.6          3.1           1.5          0.2  setosa\n",
              "4           5.0          3.6           1.4          0.2  setosa"
            ],
            "text/html": [
              "\n",
              "  <div id=\"df-1ba551bd-a49e-461c-bd0a-27f2bad481f8\" class=\"colab-df-container\">\n",
              "    <div>\n",
              "<style scoped>\n",
              "    .dataframe tbody tr th:only-of-type {\n",
              "        vertical-align: middle;\n",
              "    }\n",
              "\n",
              "    .dataframe tbody tr th {\n",
              "        vertical-align: top;\n",
              "    }\n",
              "\n",
              "    .dataframe thead th {\n",
              "        text-align: right;\n",
              "    }\n",
              "</style>\n",
              "<table border=\"1\" class=\"dataframe\">\n",
              "  <thead>\n",
              "    <tr style=\"text-align: right;\">\n",
              "      <th></th>\n",
              "      <th>sepal_length</th>\n",
              "      <th>sepal_width</th>\n",
              "      <th>petal_length</th>\n",
              "      <th>petal_width</th>\n",
              "      <th>species</th>\n",
              "    </tr>\n",
              "  </thead>\n",
              "  <tbody>\n",
              "    <tr>\n",
              "      <th>0</th>\n",
              "      <td>5.1</td>\n",
              "      <td>3.5</td>\n",
              "      <td>1.4</td>\n",
              "      <td>0.2</td>\n",
              "      <td>setosa</td>\n",
              "    </tr>\n",
              "    <tr>\n",
              "      <th>1</th>\n",
              "      <td>4.9</td>\n",
              "      <td>3.0</td>\n",
              "      <td>1.4</td>\n",
              "      <td>0.2</td>\n",
              "      <td>setosa</td>\n",
              "    </tr>\n",
              "    <tr>\n",
              "      <th>2</th>\n",
              "      <td>4.7</td>\n",
              "      <td>3.2</td>\n",
              "      <td>1.3</td>\n",
              "      <td>0.2</td>\n",
              "      <td>setosa</td>\n",
              "    </tr>\n",
              "    <tr>\n",
              "      <th>3</th>\n",
              "      <td>4.6</td>\n",
              "      <td>3.1</td>\n",
              "      <td>1.5</td>\n",
              "      <td>0.2</td>\n",
              "      <td>setosa</td>\n",
              "    </tr>\n",
              "    <tr>\n",
              "      <th>4</th>\n",
              "      <td>5.0</td>\n",
              "      <td>3.6</td>\n",
              "      <td>1.4</td>\n",
              "      <td>0.2</td>\n",
              "      <td>setosa</td>\n",
              "    </tr>\n",
              "  </tbody>\n",
              "</table>\n",
              "</div>\n",
              "    <div class=\"colab-df-buttons\">\n",
              "\n",
              "  <div class=\"colab-df-container\">\n",
              "    <button class=\"colab-df-convert\" onclick=\"convertToInteractive('df-1ba551bd-a49e-461c-bd0a-27f2bad481f8')\"\n",
              "            title=\"Convert this dataframe to an interactive table.\"\n",
              "            style=\"display:none;\">\n",
              "\n",
              "  <svg xmlns=\"http://www.w3.org/2000/svg\" height=\"24px\" viewBox=\"0 -960 960 960\">\n",
              "    <path d=\"M120-120v-720h720v720H120Zm60-500h600v-160H180v160Zm220 220h160v-160H400v160Zm0 220h160v-160H400v160ZM180-400h160v-160H180v160Zm440 0h160v-160H620v160ZM180-180h160v-160H180v160Zm440 0h160v-160H620v160Z\"/>\n",
              "  </svg>\n",
              "    </button>\n",
              "\n",
              "  <style>\n",
              "    .colab-df-container {\n",
              "      display:flex;\n",
              "      gap: 12px;\n",
              "    }\n",
              "\n",
              "    .colab-df-convert {\n",
              "      background-color: #E8F0FE;\n",
              "      border: none;\n",
              "      border-radius: 50%;\n",
              "      cursor: pointer;\n",
              "      display: none;\n",
              "      fill: #1967D2;\n",
              "      height: 32px;\n",
              "      padding: 0 0 0 0;\n",
              "      width: 32px;\n",
              "    }\n",
              "\n",
              "    .colab-df-convert:hover {\n",
              "      background-color: #E2EBFA;\n",
              "      box-shadow: 0px 1px 2px rgba(60, 64, 67, 0.3), 0px 1px 3px 1px rgba(60, 64, 67, 0.15);\n",
              "      fill: #174EA6;\n",
              "    }\n",
              "\n",
              "    .colab-df-buttons div {\n",
              "      margin-bottom: 4px;\n",
              "    }\n",
              "\n",
              "    [theme=dark] .colab-df-convert {\n",
              "      background-color: #3B4455;\n",
              "      fill: #D2E3FC;\n",
              "    }\n",
              "\n",
              "    [theme=dark] .colab-df-convert:hover {\n",
              "      background-color: #434B5C;\n",
              "      box-shadow: 0px 1px 3px 1px rgba(0, 0, 0, 0.15);\n",
              "      filter: drop-shadow(0px 1px 2px rgba(0, 0, 0, 0.3));\n",
              "      fill: #FFFFFF;\n",
              "    }\n",
              "  </style>\n",
              "\n",
              "    <script>\n",
              "      const buttonEl =\n",
              "        document.querySelector('#df-1ba551bd-a49e-461c-bd0a-27f2bad481f8 button.colab-df-convert');\n",
              "      buttonEl.style.display =\n",
              "        google.colab.kernel.accessAllowed ? 'block' : 'none';\n",
              "\n",
              "      async function convertToInteractive(key) {\n",
              "        const element = document.querySelector('#df-1ba551bd-a49e-461c-bd0a-27f2bad481f8');\n",
              "        const dataTable =\n",
              "          await google.colab.kernel.invokeFunction('convertToInteractive',\n",
              "                                                    [key], {});\n",
              "        if (!dataTable) return;\n",
              "\n",
              "        const docLinkHtml = 'Like what you see? Visit the ' +\n",
              "          '<a target=\"_blank\" href=https://colab.research.google.com/notebooks/data_table.ipynb>data table notebook</a>'\n",
              "          + ' to learn more about interactive tables.';\n",
              "        element.innerHTML = '';\n",
              "        dataTable['output_type'] = 'display_data';\n",
              "        await google.colab.output.renderOutput(dataTable, element);\n",
              "        const docLink = document.createElement('div');\n",
              "        docLink.innerHTML = docLinkHtml;\n",
              "        element.appendChild(docLink);\n",
              "      }\n",
              "    </script>\n",
              "  </div>\n",
              "\n",
              "\n",
              "<div id=\"df-3ab4356a-a979-4ad5-b021-61916c87273c\">\n",
              "  <button class=\"colab-df-quickchart\" onclick=\"quickchart('df-3ab4356a-a979-4ad5-b021-61916c87273c')\"\n",
              "            title=\"Suggest charts\"\n",
              "            style=\"display:none;\">\n",
              "\n",
              "<svg xmlns=\"http://www.w3.org/2000/svg\" height=\"24px\"viewBox=\"0 0 24 24\"\n",
              "     width=\"24px\">\n",
              "    <g>\n",
              "        <path d=\"M19 3H5c-1.1 0-2 .9-2 2v14c0 1.1.9 2 2 2h14c1.1 0 2-.9 2-2V5c0-1.1-.9-2-2-2zM9 17H7v-7h2v7zm4 0h-2V7h2v10zm4 0h-2v-4h2v4z\"/>\n",
              "    </g>\n",
              "</svg>\n",
              "  </button>\n",
              "\n",
              "<style>\n",
              "  .colab-df-quickchart {\n",
              "      --bg-color: #E8F0FE;\n",
              "      --fill-color: #1967D2;\n",
              "      --hover-bg-color: #E2EBFA;\n",
              "      --hover-fill-color: #174EA6;\n",
              "      --disabled-fill-color: #AAA;\n",
              "      --disabled-bg-color: #DDD;\n",
              "  }\n",
              "\n",
              "  [theme=dark] .colab-df-quickchart {\n",
              "      --bg-color: #3B4455;\n",
              "      --fill-color: #D2E3FC;\n",
              "      --hover-bg-color: #434B5C;\n",
              "      --hover-fill-color: #FFFFFF;\n",
              "      --disabled-bg-color: #3B4455;\n",
              "      --disabled-fill-color: #666;\n",
              "  }\n",
              "\n",
              "  .colab-df-quickchart {\n",
              "    background-color: var(--bg-color);\n",
              "    border: none;\n",
              "    border-radius: 50%;\n",
              "    cursor: pointer;\n",
              "    display: none;\n",
              "    fill: var(--fill-color);\n",
              "    height: 32px;\n",
              "    padding: 0;\n",
              "    width: 32px;\n",
              "  }\n",
              "\n",
              "  .colab-df-quickchart:hover {\n",
              "    background-color: var(--hover-bg-color);\n",
              "    box-shadow: 0 1px 2px rgba(60, 64, 67, 0.3), 0 1px 3px 1px rgba(60, 64, 67, 0.15);\n",
              "    fill: var(--button-hover-fill-color);\n",
              "  }\n",
              "\n",
              "  .colab-df-quickchart-complete:disabled,\n",
              "  .colab-df-quickchart-complete:disabled:hover {\n",
              "    background-color: var(--disabled-bg-color);\n",
              "    fill: var(--disabled-fill-color);\n",
              "    box-shadow: none;\n",
              "  }\n",
              "\n",
              "  .colab-df-spinner {\n",
              "    border: 2px solid var(--fill-color);\n",
              "    border-color: transparent;\n",
              "    border-bottom-color: var(--fill-color);\n",
              "    animation:\n",
              "      spin 1s steps(1) infinite;\n",
              "  }\n",
              "\n",
              "  @keyframes spin {\n",
              "    0% {\n",
              "      border-color: transparent;\n",
              "      border-bottom-color: var(--fill-color);\n",
              "      border-left-color: var(--fill-color);\n",
              "    }\n",
              "    20% {\n",
              "      border-color: transparent;\n",
              "      border-left-color: var(--fill-color);\n",
              "      border-top-color: var(--fill-color);\n",
              "    }\n",
              "    30% {\n",
              "      border-color: transparent;\n",
              "      border-left-color: var(--fill-color);\n",
              "      border-top-color: var(--fill-color);\n",
              "      border-right-color: var(--fill-color);\n",
              "    }\n",
              "    40% {\n",
              "      border-color: transparent;\n",
              "      border-right-color: var(--fill-color);\n",
              "      border-top-color: var(--fill-color);\n",
              "    }\n",
              "    60% {\n",
              "      border-color: transparent;\n",
              "      border-right-color: var(--fill-color);\n",
              "    }\n",
              "    80% {\n",
              "      border-color: transparent;\n",
              "      border-right-color: var(--fill-color);\n",
              "      border-bottom-color: var(--fill-color);\n",
              "    }\n",
              "    90% {\n",
              "      border-color: transparent;\n",
              "      border-bottom-color: var(--fill-color);\n",
              "    }\n",
              "  }\n",
              "</style>\n",
              "\n",
              "  <script>\n",
              "    async function quickchart(key) {\n",
              "      const quickchartButtonEl =\n",
              "        document.querySelector('#' + key + ' button');\n",
              "      quickchartButtonEl.disabled = true;  // To prevent multiple clicks.\n",
              "      quickchartButtonEl.classList.add('colab-df-spinner');\n",
              "      try {\n",
              "        const charts = await google.colab.kernel.invokeFunction(\n",
              "            'suggestCharts', [key], {});\n",
              "      } catch (error) {\n",
              "        console.error('Error during call to suggestCharts:', error);\n",
              "      }\n",
              "      quickchartButtonEl.classList.remove('colab-df-spinner');\n",
              "      quickchartButtonEl.classList.add('colab-df-quickchart-complete');\n",
              "    }\n",
              "    (() => {\n",
              "      let quickchartButtonEl =\n",
              "        document.querySelector('#df-3ab4356a-a979-4ad5-b021-61916c87273c button');\n",
              "      quickchartButtonEl.style.display =\n",
              "        google.colab.kernel.accessAllowed ? 'block' : 'none';\n",
              "    })();\n",
              "  </script>\n",
              "</div>\n",
              "\n",
              "    </div>\n",
              "  </div>\n"
            ],
            "application/vnd.google.colaboratory.intrinsic+json": {
              "type": "dataframe",
              "variable_name": "df",
              "summary": "{\n  \"name\": \"df\",\n  \"rows\": 150,\n  \"fields\": [\n    {\n      \"column\": \"sepal_length\",\n      \"properties\": {\n        \"dtype\": \"number\",\n        \"std\": 0.8280661279778629,\n        \"min\": 4.3,\n        \"max\": 7.9,\n        \"num_unique_values\": 35,\n        \"samples\": [\n          6.2,\n          4.5,\n          5.6\n        ],\n        \"semantic_type\": \"\",\n        \"description\": \"\"\n      }\n    },\n    {\n      \"column\": \"sepal_width\",\n      \"properties\": {\n        \"dtype\": \"number\",\n        \"std\": 0.435866284936698,\n        \"min\": 2.0,\n        \"max\": 4.4,\n        \"num_unique_values\": 23,\n        \"samples\": [\n          2.3,\n          4.0,\n          3.5\n        ],\n        \"semantic_type\": \"\",\n        \"description\": \"\"\n      }\n    },\n    {\n      \"column\": \"petal_length\",\n      \"properties\": {\n        \"dtype\": \"number\",\n        \"std\": 1.7652982332594667,\n        \"min\": 1.0,\n        \"max\": 6.9,\n        \"num_unique_values\": 43,\n        \"samples\": [\n          6.7,\n          3.8,\n          3.7\n        ],\n        \"semantic_type\": \"\",\n        \"description\": \"\"\n      }\n    },\n    {\n      \"column\": \"petal_width\",\n      \"properties\": {\n        \"dtype\": \"number\",\n        \"std\": 0.7622376689603465,\n        \"min\": 0.1,\n        \"max\": 2.5,\n        \"num_unique_values\": 22,\n        \"samples\": [\n          0.2,\n          1.2,\n          1.3\n        ],\n        \"semantic_type\": \"\",\n        \"description\": \"\"\n      }\n    },\n    {\n      \"column\": \"species\",\n      \"properties\": {\n        \"dtype\": \"category\",\n        \"num_unique_values\": 3,\n        \"samples\": [\n          \"setosa\",\n          \"versicolor\",\n          \"virginica\"\n        ],\n        \"semantic_type\": \"\",\n        \"description\": \"\"\n      }\n    }\n  ]\n}"
            }
          },
          "metadata": {},
          "execution_count": 29
        }
      ],
      "source": [
        "df=sns.load_dataset('iris')\n",
        "df.head()"
      ]
    },
    {
      "cell_type": "code",
      "execution_count": 30,
      "metadata": {
        "id": "TdbsNTeSEbJk"
      },
      "outputs": [],
      "source": [
        "df.to_csv('spark_iris_1.csv', index=False)"
      ]
    },
    {
      "cell_type": "markdown",
      "metadata": {
        "id": "KQV8kViQEbJk"
      },
      "source": []
    },
    {
      "cell_type": "code",
      "execution_count": 31,
      "metadata": {
        "colab": {
          "base_uri": "https://localhost:8080/"
        },
        "id": "dZQft1fiEbJl",
        "outputId": "4c96b40d-9edc-4a57-f247-43ab88609ed8"
      },
      "outputs": [
        {
          "output_type": "stream",
          "name": "stdout",
          "text": [
            "+------------+-----------+------------+-----------+-------+\n",
            "|sepal_length|sepal_width|petal_length|petal_width|species|\n",
            "+------------+-----------+------------+-----------+-------+\n",
            "|         5.1|        3.5|         1.4|        0.2| setosa|\n",
            "|         4.9|        3.0|         1.4|        0.2| setosa|\n",
            "|         4.7|        3.2|         1.3|        0.2| setosa|\n",
            "|         4.6|        3.1|         1.5|        0.2| setosa|\n",
            "|         5.0|        3.6|         1.4|        0.2| setosa|\n",
            "|         5.4|        3.9|         1.7|        0.4| setosa|\n",
            "|         4.6|        3.4|         1.4|        0.3| setosa|\n",
            "|         5.0|        3.4|         1.5|        0.2| setosa|\n",
            "|         4.4|        2.9|         1.4|        0.2| setosa|\n",
            "|         4.9|        3.1|         1.5|        0.1| setosa|\n",
            "|         5.4|        3.7|         1.5|        0.2| setosa|\n",
            "|         4.8|        3.4|         1.6|        0.2| setosa|\n",
            "|         4.8|        3.0|         1.4|        0.1| setosa|\n",
            "|         4.3|        3.0|         1.1|        0.1| setosa|\n",
            "|         5.8|        4.0|         1.2|        0.2| setosa|\n",
            "|         5.7|        4.4|         1.5|        0.4| setosa|\n",
            "|         5.4|        3.9|         1.3|        0.4| setosa|\n",
            "|         5.1|        3.5|         1.4|        0.3| setosa|\n",
            "|         5.7|        3.8|         1.7|        0.3| setosa|\n",
            "|         5.1|        3.8|         1.5|        0.3| setosa|\n",
            "+------------+-----------+------------+-----------+-------+\n",
            "only showing top 20 rows\n",
            "\n"
          ]
        }
      ],
      "source": [
        "data=spark.read.csv('spark_iris_1.csv',header=True,inferSchema=True )\n",
        "\n",
        "data.show()"
      ]
    },
    {
      "cell_type": "code",
      "execution_count": 32,
      "metadata": {
        "colab": {
          "base_uri": "https://localhost:8080/"
        },
        "id": "AkH2eIKlEbJl",
        "outputId": "14daac51-3dde-4b3d-f162-e18c7111045a"
      },
      "outputs": [
        {
          "output_type": "stream",
          "name": "stdout",
          "text": [
            "+------------+-----------+------------+-----------+-------+\n",
            "|sepal_length|sepal_width|petal_length|petal_width|species|\n",
            "+------------+-----------+------------+-----------+-------+\n",
            "|           0|          0|           0|          0|      0|\n",
            "+------------+-----------+------------+-----------+-------+\n",
            "\n"
          ]
        }
      ],
      "source": [
        "# counting number of nulls for each of the columns\n",
        "from pyspark.sql.functions import col, count,when\n",
        "data.select([count(when(col(c).isNull(),c)).alias(c) for c in data.columns]).show()"
      ]
    },
    {
      "cell_type": "code",
      "execution_count": 33,
      "metadata": {
        "colab": {
          "base_uri": "https://localhost:8080/"
        },
        "id": "WSSGG4cEEbJm",
        "outputId": "6f2a6e7f-8589-4dff-e2b0-a0b7349bb3e1"
      },
      "outputs": [
        {
          "output_type": "stream",
          "name": "stdout",
          "text": [
            "+------------+-----------+------------+-----------+-------+-------------+\n",
            "|sepal_length|sepal_width|petal_length|petal_width|species|label_species|\n",
            "+------------+-----------+------------+-----------+-------+-------------+\n",
            "|         5.1|        3.5|         1.4|        0.2| setosa|          0.0|\n",
            "|         4.9|        3.0|         1.4|        0.2| setosa|          0.0|\n",
            "|         4.7|        3.2|         1.3|        0.2| setosa|          0.0|\n",
            "|         4.6|        3.1|         1.5|        0.2| setosa|          0.0|\n",
            "|         5.0|        3.6|         1.4|        0.2| setosa|          0.0|\n",
            "|         5.4|        3.9|         1.7|        0.4| setosa|          0.0|\n",
            "|         4.6|        3.4|         1.4|        0.3| setosa|          0.0|\n",
            "|         5.0|        3.4|         1.5|        0.2| setosa|          0.0|\n",
            "|         4.4|        2.9|         1.4|        0.2| setosa|          0.0|\n",
            "|         4.9|        3.1|         1.5|        0.1| setosa|          0.0|\n",
            "|         5.4|        3.7|         1.5|        0.2| setosa|          0.0|\n",
            "|         4.8|        3.4|         1.6|        0.2| setosa|          0.0|\n",
            "|         4.8|        3.0|         1.4|        0.1| setosa|          0.0|\n",
            "|         4.3|        3.0|         1.1|        0.1| setosa|          0.0|\n",
            "|         5.8|        4.0|         1.2|        0.2| setosa|          0.0|\n",
            "|         5.7|        4.4|         1.5|        0.4| setosa|          0.0|\n",
            "|         5.4|        3.9|         1.3|        0.4| setosa|          0.0|\n",
            "|         5.1|        3.5|         1.4|        0.3| setosa|          0.0|\n",
            "|         5.7|        3.8|         1.7|        0.3| setosa|          0.0|\n",
            "|         5.1|        3.8|         1.5|        0.3| setosa|          0.0|\n",
            "+------------+-----------+------------+-----------+-------+-------------+\n",
            "only showing top 20 rows\n",
            "\n"
          ]
        }
      ],
      "source": [
        "# encoding categorical variables\n",
        "\n",
        "from pyspark.ml.feature import StringIndexer\n",
        "\n",
        "label_indexer= StringIndexer(inputCol='species', outputCol='label_species')\n",
        "\n",
        "data=label_indexer.fit(data).transform(data)\n",
        "\n",
        "data.show()"
      ]
    },
    {
      "cell_type": "code",
      "execution_count": 34,
      "metadata": {
        "colab": {
          "base_uri": "https://localhost:8080/"
        },
        "id": "ZlJlmfW5EbJm",
        "outputId": "b9b7fd18-89b1-4334-a567-f464f9dff174"
      },
      "outputs": [
        {
          "output_type": "stream",
          "name": "stdout",
          "text": [
            "+------------+-----------+------------+-----------+-------+-------------+-----------------+\n",
            "|sepal_length|sepal_width|petal_length|petal_width|species|label_species|       features_1|\n",
            "+------------+-----------+------------+-----------+-------+-------------+-----------------+\n",
            "|         5.1|        3.5|         1.4|        0.2| setosa|          0.0|[5.1,3.5,1.4,0.2]|\n",
            "|         4.9|        3.0|         1.4|        0.2| setosa|          0.0|[4.9,3.0,1.4,0.2]|\n",
            "|         4.7|        3.2|         1.3|        0.2| setosa|          0.0|[4.7,3.2,1.3,0.2]|\n",
            "|         4.6|        3.1|         1.5|        0.2| setosa|          0.0|[4.6,3.1,1.5,0.2]|\n",
            "|         5.0|        3.6|         1.4|        0.2| setosa|          0.0|[5.0,3.6,1.4,0.2]|\n",
            "|         5.4|        3.9|         1.7|        0.4| setosa|          0.0|[5.4,3.9,1.7,0.4]|\n",
            "|         4.6|        3.4|         1.4|        0.3| setosa|          0.0|[4.6,3.4,1.4,0.3]|\n",
            "|         5.0|        3.4|         1.5|        0.2| setosa|          0.0|[5.0,3.4,1.5,0.2]|\n",
            "|         4.4|        2.9|         1.4|        0.2| setosa|          0.0|[4.4,2.9,1.4,0.2]|\n",
            "|         4.9|        3.1|         1.5|        0.1| setosa|          0.0|[4.9,3.1,1.5,0.1]|\n",
            "|         5.4|        3.7|         1.5|        0.2| setosa|          0.0|[5.4,3.7,1.5,0.2]|\n",
            "|         4.8|        3.4|         1.6|        0.2| setosa|          0.0|[4.8,3.4,1.6,0.2]|\n",
            "|         4.8|        3.0|         1.4|        0.1| setosa|          0.0|[4.8,3.0,1.4,0.1]|\n",
            "|         4.3|        3.0|         1.1|        0.1| setosa|          0.0|[4.3,3.0,1.1,0.1]|\n",
            "|         5.8|        4.0|         1.2|        0.2| setosa|          0.0|[5.8,4.0,1.2,0.2]|\n",
            "|         5.7|        4.4|         1.5|        0.4| setosa|          0.0|[5.7,4.4,1.5,0.4]|\n",
            "|         5.4|        3.9|         1.3|        0.4| setosa|          0.0|[5.4,3.9,1.3,0.4]|\n",
            "|         5.1|        3.5|         1.4|        0.3| setosa|          0.0|[5.1,3.5,1.4,0.3]|\n",
            "|         5.7|        3.8|         1.7|        0.3| setosa|          0.0|[5.7,3.8,1.7,0.3]|\n",
            "|         5.1|        3.8|         1.5|        0.3| setosa|          0.0|[5.1,3.8,1.5,0.3]|\n",
            "+------------+-----------+------------+-----------+-------+-------------+-----------------+\n",
            "only showing top 20 rows\n",
            "\n"
          ]
        }
      ],
      "source": [
        "from pyspark.ml.feature import VectorAssembler\n",
        "feature_cols=['sepal_length', 'sepal_width', 'petal_length', 'petal_width']\n",
        "\n",
        "assembler=VectorAssembler(inputCols=feature_cols, outputCol='features_1')\n",
        "\n",
        "data=assembler.transform(data)\n",
        "\n",
        "data.show()"
      ]
    },
    {
      "cell_type": "code",
      "execution_count": 36,
      "metadata": {
        "colab": {
          "base_uri": "https://localhost:8080/"
        },
        "id": "KEYy1iEDEbJn",
        "outputId": "6a4f7397-2b24-4a04-98a4-5f0b09882cb6"
      },
      "outputs": [
        {
          "output_type": "stream",
          "name": "stdout",
          "text": [
            "+--------------------+-------------+\n",
            "|     scaled_features|label_species|\n",
            "+--------------------+-------------+\n",
            "|[6.15892840883878...|          0.0|\n",
            "|[5.9174018045706,...|          0.0|\n",
            "|[5.67587520030241...|          0.0|\n",
            "|[5.55511189816831...|          0.0|\n",
            "|[6.03816510670469...|          0.0|\n",
            "+--------------------+-------------+\n",
            "only showing top 5 rows\n",
            "\n"
          ]
        }
      ],
      "source": [
        "from pyspark.ml.feature import StandardScaler\n",
        "\n",
        "scaler=StandardScaler(inputCol='features_1', outputCol='scaled_features', withStd=True, withMean=False)\n",
        "\n",
        "scaler_model=scaler.fit(data)\n",
        "\n",
        "data=scaler_model.transform(data)\n",
        "\n",
        "\n",
        "data.select('scaled_features', 'label_species').show(5)\n"
      ]
    },
    {
      "cell_type": "markdown",
      "source": [
        "**withStd=True**\n",
        "\n",
        "This parameter specifies that the data should be scaled to have unit variance, meaning the transformed values will be divided by the standard deviation of each feature. When withStd=True, each feature in the vector will have a standard deviation of 1.\n",
        "\n",
        "**withMean=False**\n",
        "\n",
        "This parameter determines whether the data should be centered by subtracting the mean of each feature. withMean=False means the mean of each feature will not be subtracted. This is often kept as False when working with sparse data because centering would result in dense data, which consumes more memory."
      ],
      "metadata": {
        "id": "I5XUAETbF1Qk"
      }
    },
    {
      "cell_type": "code",
      "execution_count": 37,
      "metadata": {
        "id": "IIimg-6KEbJn"
      },
      "outputs": [],
      "source": [
        "# split into train & test\n",
        "\n",
        "train_data, test_data= data.randomSplit([0.8, 0.2], seed=123)"
      ]
    },
    {
      "cell_type": "code",
      "execution_count": 38,
      "metadata": {
        "id": "M6krD_EKEbJn"
      },
      "outputs": [],
      "source": [
        "from pyspark.ml.classification import LogisticRegression\n",
        "\n",
        "lr=LogisticRegression(featuresCol='scaled_features',labelCol='label_species' )"
      ]
    },
    {
      "cell_type": "code",
      "execution_count": 39,
      "metadata": {
        "id": "KO31S94jEbJn"
      },
      "outputs": [],
      "source": [
        "# train the data\n",
        "\n",
        "model=lr.fit(train_data)\n"
      ]
    },
    {
      "cell_type": "code",
      "execution_count": 40,
      "metadata": {
        "id": "p-Z8HnwcEbJn"
      },
      "outputs": [],
      "source": [
        "predictions=model.transform(test_data)\n"
      ]
    },
    {
      "cell_type": "code",
      "execution_count": 41,
      "metadata": {
        "colab": {
          "base_uri": "https://localhost:8080/"
        },
        "id": "fKTpYV7qEbJn",
        "outputId": "14604747-90df-4c22-b7a8-06e46b220054"
      },
      "outputs": [
        {
          "output_type": "stream",
          "name": "stdout",
          "text": [
            "+-----------------------------------------------------------------------------+-------------+----------+-----------------------------------------------------+\n",
            "|scaled_features                                                              |label_species|prediction|probability                                          |\n",
            "+-----------------------------------------------------------------------------+-------------+----------+-----------------------------------------------------+\n",
            "|[5.313585293900131,6.882844816583367,0.7364194760449431,0.26238535320983253] |0.0          |0.0       |[1.0,1.2457789207319175E-219,0.0]                    |\n",
            "|[5.555111898168318,7.341701137688926,0.7930671280484002,0.26238535320983253] |0.0          |0.0       |[1.0,2.7694139977059496E-208,0.0]                    |\n",
            "|[5.7966385024365055,6.882844816583367,0.7930671280484002,0.3935780298147488] |0.0          |0.0       |[1.0,3.043953542294356E-129,0.0]                     |\n",
            "|[5.7966385024365055,7.112272977136146,0.9063624320553146,0.26238535320983253]|0.0          |0.0       |[1.0,2.6553009912889026E-157,0.0]                    |\n",
            "|[5.9174018045706,6.882844816583367,0.7930671280484002,0.26238535320983253]   |0.0          |0.0       |[1.0,4.2569392763889714E-125,0.0]                    |\n",
            "|[6.038165106704694,5.276847692713915,1.8693725161140862,1.3119267660491627]  |1.0          |1.0       |[2.5292942614607983E-105,1.0,0.0]                    |\n",
            "|[6.038165106704694,8.029985619347261,0.7364194760449431,0.3935780298147488]  |0.0          |0.0       |[1.0,1.6975149885335765E-157,0.0]                    |\n",
            "|[6.038165106704694,8.029985619347261,0.9063624320553146,0.7871560596294976]  |0.0          |0.0       |[1.0,2.697309657173701E-113,0.0]                     |\n",
            "|[6.158928408838787,7.571129298241703,0.9630100840587718,0.6559633830245813]  |0.0          |0.0       |[1.0,9.735845385057248E-83,0.0]                      |\n",
            "|[6.158928408838787,7.800557458794483,0.8497147800518574,0.26238535320983253] |0.0          |0.0       |[1.0,3.3888572221854594E-140,0.0]                    |\n",
            "|[6.158928408838787,8.029985619347261,0.7930671280484002,0.26238535320983253] |0.0          |0.0       |[1.0,2.1941453322440804E-153,0.0]                    |\n",
            "|[6.158928408838787,8.718270101005597,0.8497147800518574,0.3935780298147488]  |0.0          |0.0       |[1.0,2.5467392853955536E-178,0.0]                    |\n",
            "|[6.158928408838787,8.718270101005597,1.076305388065686,0.5247707064196651]   |0.0          |0.0       |[1.0,1.0890986742425922E-163,0.0]                    |\n",
            "|[6.52121831524107,7.800557458794483,0.8497147800518574,0.5247707064196651]   |0.0          |0.0       |[1.0,6.406171202151711E-54,0.0]                      |\n",
            "|[6.641981617375163,5.735704013819473,2.2659060801382864,1.7055047958639116]  |1.0          |1.0       |[1.6475544195589192E-217,1.0,2.522607305245132E-177] |\n",
            "|[6.762744919509257,6.423988495477809,2.775734948169401,2.6238535320983254]   |2.0          |2.0       |[0.0,5.728297787054053E-132,1.0]                     |\n",
            "|[7.004271523777445,6.194560334925031,2.889030252176315,2.492660855493409]    |2.0          |2.0       |[0.0,3.7336590509877942E-149,1.0]                    |\n",
            "|[7.1250348259115395,6.882844816583367,2.3792013841452007,1.9678901490737442] |1.0          |1.0       |[1.6222385505778393E-256,1.0,1.0489509634417997E-184]|\n",
            "|[7.2457981280456325,6.194560334925031,2.889030252176315,2.0990828256786602]  |1.0          |2.0       |[0.0,1.453239900204242E-68,1.0]                      |\n",
            "|[7.48732473231382,5.047419532161136,2.5491443401555722,1.9678901490737442]   |1.0          |1.0       |[0.0,1.0,9.862556561535106E-58]                      |\n",
            "+-----------------------------------------------------------------------------+-------------+----------+-----------------------------------------------------+\n",
            "only showing top 20 rows\n",
            "\n"
          ]
        }
      ],
      "source": [
        "predictions.select(\"scaled_features\", \"label_species\",\"prediction\",\"probability\").show(truncate=False)"
      ]
    },
    {
      "cell_type": "code",
      "execution_count": 44,
      "metadata": {
        "colab": {
          "base_uri": "https://localhost:8080/"
        },
        "id": "dtaoKgKQEbJo",
        "outputId": "2907574d-93c2-499e-919a-004e6712106e"
      },
      "outputs": [
        {
          "output_type": "stream",
          "name": "stdout",
          "text": [
            "accuracy of the model for iris is 0.97\n"
          ]
        }
      ],
      "source": [
        "from pyspark.ml.evaluation import MulticlassClassificationEvaluator\n",
        "\n",
        "evaluator=MulticlassClassificationEvaluator(labelCol='label_species', predictionCol='prediction', metricName='accuracy')\n",
        "\n",
        "accuracy=evaluator.evaluate(predictions)\n",
        "\n",
        "print(f\"accuracy of the model for iris is {np.round(accuracy,2)}\")"
      ]
    },
    {
      "cell_type": "code",
      "execution_count": 45,
      "metadata": {
        "id": "R1vZsOD7EbJo"
      },
      "outputs": [],
      "source": [
        "feature_cols=['sepal_length', 'sepal_width', 'petal_length', 'petal_width']\n",
        "\n",
        "label_indexer= StringIndexer(inputCol='species', outputCol='label_species')\n",
        "assembler=VectorAssembler(inputCols=feature_cols, outputCol='features_1')\n",
        "scaler=StandardScaler(inputCol='features', outputCol='scaled_features', withStd=True, withMean=False)\n",
        "lr=LogisticRegression(featuresCol='scaled_features',labelCol='label_species' )\n"
      ]
    },
    {
      "cell_type": "code",
      "execution_count": 46,
      "metadata": {
        "id": "FgHnUZUVEbJo"
      },
      "outputs": [],
      "source": [
        "from pyspark.ml import Pipeline\n",
        "\n",
        "pipeline_stages=Pipeline(stages=[label_indexer, assembler,scaler, lr])\n",
        ""
      ]
    },
    {
      "cell_type": "code",
      "execution_count": 47,
      "metadata": {
        "id": "_WtJpzxdEbJo"
      },
      "outputs": [],
      "source": [
        "iris_tr_da, iris_te_da=data.randomSplit([0.8, 0.2], seed=124)"
      ]
    },
    {
      "cell_type": "code",
      "execution_count": 49,
      "metadata": {
        "id": "PTjvL4YJEbJo"
      },
      "outputs": [],
      "source": [
        "# model=pipeline_stages.fit(iris_tr_da)"
      ]
    }
  ],
  "metadata": {
    "kernelspec": {
      "display_name": "Python 3",
      "language": "python",
      "name": "python3"
    },
    "language_info": {
      "codemirror_mode": {
        "name": "ipython",
        "version": 3
      },
      "file_extension": ".py",
      "mimetype": "text/x-python",
      "name": "python",
      "nbconvert_exporter": "python",
      "pygments_lexer": "ipython3",
      "version": "3.8.3"
    },
    "colab": {
      "provenance": []
    }
  },
  "nbformat": 4,
  "nbformat_minor": 0
}