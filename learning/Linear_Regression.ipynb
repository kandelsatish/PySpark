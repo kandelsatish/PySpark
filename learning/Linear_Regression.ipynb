{
  "cells": [
    {
      "cell_type": "markdown",
      "metadata": {
        "id": "E2_sDbqxJv6N"
      },
      "source": [
        "# Linear Regression Consulting Project"
      ]
    },
    {
      "cell_type": "markdown",
      "metadata": {
        "collapsed": true,
        "jupyter": {
          "outputs_hidden": true
        },
        "id": "yWnAip8NJv6Q"
      },
      "source": [
        "Congratulations! You've been contracted by Hyundai Heavy Industries to help them build a predictive model for some ships. [Hyundai Heavy Industries](http://www.hyundai.eu/en) is one of the world's largest ship manufacturing companies and builds cruise liners.\n",
        "\n",
        "You've been flown to their headquarters in Ulsan, South Korea to help them give accurate estimates of how many crew members a ship will require.\n",
        "\n",
        "They are currently building new ships for some customers and want you to create a model and use it to predict how many crew members the ships will need.\n",
        "\n",
        "Here is what the data looks like so far:\n",
        "\n",
        "    Description: Measurements of ship size, capacity, crew, and age for 158 cruise\n",
        "    ships.\n",
        "\n",
        "\n",
        "    Variables/Columns\n",
        "    Ship Name     1-20\n",
        "    Cruise Line   21-40\n",
        "    Age (as of 2013)   46-48\n",
        "    Tonnage (1000s of tons)   50-56\n",
        "    passengers (100s)   58-64\n",
        "    Length (100s of feet)  66-72\n",
        "    Cabins  (100s)   74-80\n",
        "    Passenger Density   82-88\n",
        "    Crew  (100s)   90-96\n",
        "    \n",
        "It is saved in a csv file for you called \"cruise_ship_info.csv\". Your job is to create a regression model that will help predict how many crew members will be needed for future ships. The client also mentioned that they have found that particular cruise lines will differ in acceptable crew counts, so it is most likely an important feature to include in your analysis!\n",
        "\n",
        "Once you've created the model and tested it for a quick check on how well you can expect it to perform, make sure you take a look at why it performs so well!"
      ]
    },
    {
      "cell_type": "code",
      "execution_count": null,
      "metadata": {
        "id": "mNClh6N2Jv6S"
      },
      "outputs": [],
      "source": [
        "from pyspark.sql import SparkSession\n",
        "from pyspark import SparkFiles\n",
        "from pyspark.ml.regression import LinearRegression\n",
        "from pyspark.ml.feature import VectorAssembler\n",
        "from pyspark.ml.evaluation import RegressionEvaluator"
      ]
    },
    {
      "cell_type": "code",
      "execution_count": null,
      "metadata": {
        "id": "VTF7udpUJv6U",
        "outputId": "aa847fdb-6756-4310-ea3b-9b8b2fe52a9b"
      },
      "outputs": [
        {
          "data": {
            "text/html": [
              "\n",
              "            <div>\n",
              "                <p><b>SparkSession - in-memory</b></p>\n",
              "                \n",
              "        <div>\n",
              "            <p><b>SparkContext</b></p>\n",
              "\n",
              "            <p><a href=\"http://DESKTOP-3QDRMBI:4040\">Spark UI</a></p>\n",
              "\n",
              "            <dl>\n",
              "              <dt>Version</dt>\n",
              "                <dd><code>v3.5.0</code></dd>\n",
              "              <dt>Master</dt>\n",
              "                <dd><code>local[*]</code></dd>\n",
              "              <dt>AppName</dt>\n",
              "                <dd><code>Linear Regression with PySpark MLlib</code></dd>\n",
              "            </dl>\n",
              "        </div>\n",
              "        \n",
              "            </div>\n",
              "        "
            ],
            "text/plain": [
              "<pyspark.sql.session.SparkSession at 0x278c9528d90>"
            ]
          },
          "execution_count": 2,
          "metadata": {},
          "output_type": "execute_result"
        }
      ],
      "source": [
        "# create a spark session\n",
        "spark = SparkSession.builder \\\n",
        "    .appName(\"Linear Regression with PySpark MLlib\") \\\n",
        "    .getOrCreate()\n",
        "spark"
      ]
    },
    {
      "cell_type": "code",
      "execution_count": null,
      "metadata": {
        "id": "7l8xUcTTJv6Y",
        "outputId": "5eccaea5-a808-45c9-840e-44d03218f9c4"
      },
      "outputs": [
        {
          "name": "stdout",
          "output_type": "stream",
          "text": [
            "+-----------+-----------+---+------------------+----------+------+------+-----------------+----+\n",
            "|  Ship_name|Cruise_line|Age|           Tonnage|passengers|length|cabins|passenger_density|crew|\n",
            "+-----------+-----------+---+------------------+----------+------+------+-----------------+----+\n",
            "|    Journey|    Azamara|  6|30.276999999999997|      6.94|  5.94|  3.55|            42.64|3.55|\n",
            "|      Quest|    Azamara|  6|30.276999999999997|      6.94|  5.94|  3.55|            42.64|3.55|\n",
            "|Celebration|   Carnival| 26|            47.262|     14.86|  7.22|  7.43|             31.8| 6.7|\n",
            "|   Conquest|   Carnival| 11|             110.0|     29.74|  9.53| 14.88|            36.99|19.1|\n",
            "|    Destiny|   Carnival| 17|           101.353|     26.42|  8.92| 13.21|            38.36|10.0|\n",
            "+-----------+-----------+---+------------------+----------+------+------+-----------------+----+\n",
            "only showing top 5 rows\n",
            "\n"
          ]
        }
      ],
      "source": [
        "data = spark.read.csv(\"cruise_ship_info.csv\", header=True, inferSchema=True)\n",
        "data.show(5)"
      ]
    },
    {
      "cell_type": "code",
      "execution_count": null,
      "metadata": {
        "id": "7-7eFsEhJv6Z"
      },
      "outputs": [],
      "source": [
        "# assemble the input features into a single feature vector using the VectorAssembler class\n",
        "'''\n",
        "features=feature vector, which is the assembled vector of multiple columns,\n",
        "crew=target variable\n",
        "'''\n",
        "assembler = VectorAssembler(\n",
        "    inputCols=[\"Age\", \"Tonnage\", \"passengers\", \"length\", \"cabins\", \"passenger_density\"],\n",
        "    outputCol=\"features\")\n",
        "\n",
        "data = assembler.transform(data)\n"
      ]
    },
    {
      "cell_type": "code",
      "execution_count": null,
      "metadata": {
        "id": "TTB1_2gmJv6Z",
        "outputId": "f1074a8c-303a-42c7-fc99-df4b75b99ee1"
      },
      "outputs": [
        {
          "name": "stdout",
          "output_type": "stream",
          "text": [
            "+-----------+-----------+---+------------------+----------+------+------+-----------------+----+--------------------+\n",
            "|  Ship_name|Cruise_line|Age|           Tonnage|passengers|length|cabins|passenger_density|crew|            features|\n",
            "+-----------+-----------+---+------------------+----------+------+------+-----------------+----+--------------------+\n",
            "|    Journey|    Azamara|  6|30.276999999999997|      6.94|  5.94|  3.55|            42.64|3.55|[6.0,30.276999999...|\n",
            "|      Quest|    Azamara|  6|30.276999999999997|      6.94|  5.94|  3.55|            42.64|3.55|[6.0,30.276999999...|\n",
            "|Celebration|   Carnival| 26|            47.262|     14.86|  7.22|  7.43|             31.8| 6.7|[26.0,47.262,14.8...|\n",
            "|   Conquest|   Carnival| 11|             110.0|     29.74|  9.53| 14.88|            36.99|19.1|[11.0,110.0,29.74...|\n",
            "|    Destiny|   Carnival| 17|           101.353|     26.42|  8.92| 13.21|            38.36|10.0|[17.0,101.353,26....|\n",
            "|    Ecstasy|   Carnival| 22|            70.367|     20.52|  8.55|  10.2|            34.29| 9.2|[22.0,70.367,20.5...|\n",
            "|    Elation|   Carnival| 15|            70.367|     20.52|  8.55|  10.2|            34.29| 9.2|[15.0,70.367,20.5...|\n",
            "|    Fantasy|   Carnival| 23|            70.367|     20.56|  8.55| 10.22|            34.23| 9.2|[23.0,70.367,20.5...|\n",
            "|Fascination|   Carnival| 19|            70.367|     20.52|  8.55|  10.2|            34.29| 9.2|[19.0,70.367,20.5...|\n",
            "|    Freedom|   Carnival|  6|110.23899999999999|      37.0|  9.51| 14.87|            29.79|11.5|[6.0,110.23899999...|\n",
            "+-----------+-----------+---+------------------+----------+------+------+-----------------+----+--------------------+\n",
            "only showing top 10 rows\n",
            "\n"
          ]
        }
      ],
      "source": [
        "data.show(10)"
      ]
    },
    {
      "cell_type": "code",
      "execution_count": null,
      "metadata": {
        "id": "XkCOiVysJv6b",
        "outputId": "52ae3ffe-e2b5-482b-ec01-d98615f25d13"
      },
      "outputs": [
        {
          "name": "stdout",
          "output_type": "stream",
          "text": [
            "+--------------------+----+\n",
            "|            features|crew|\n",
            "+--------------------+----+\n",
            "|[6.0,30.276999999...|3.55|\n",
            "|[6.0,30.276999999...|3.55|\n",
            "|[26.0,47.262,14.8...| 6.7|\n",
            "|[11.0,110.0,29.74...|19.1|\n",
            "|[17.0,101.353,26....|10.0|\n",
            "+--------------------+----+\n",
            "only showing top 5 rows\n",
            "\n"
          ]
        }
      ],
      "source": [
        "final_data = data.select(\"features\", \"crew\")\n",
        "final_data.show(5)"
      ]
    },
    {
      "cell_type": "code",
      "execution_count": null,
      "metadata": {
        "id": "OVjJdWB1Jv6c"
      },
      "outputs": [],
      "source": [
        "# train test split\n",
        "train_data, test_data = final_data.randomSplit([0.8, 0.2], seed=42)"
      ]
    },
    {
      "cell_type": "code",
      "execution_count": null,
      "metadata": {
        "id": "gIwvBO1GJv6c",
        "outputId": "ec65fe29-d125-4e98-e2f3-65a5bf86102d"
      },
      "outputs": [
        {
          "name": "stdout",
          "output_type": "stream",
          "text": [
            "+--------------------+-----+\n",
            "|            features| crew|\n",
            "+--------------------+-----+\n",
            "|[4.0,220.0,54.0,1...| 21.0|\n",
            "|[5.0,86.0,21.04,9...|  8.0|\n",
            "|[5.0,122.0,28.5,1...|  6.7|\n",
            "|[5.0,133.5,39.59,...|13.13|\n",
            "|[5.0,160.0,36.34,...| 13.6|\n",
            "|[6.0,30.276999999...| 3.55|\n",
            "|[6.0,93.0,23.94,9...|11.09|\n",
            "|[6.0,110.23899999...| 11.5|\n",
            "|[6.0,112.0,38.0,9...| 10.9|\n",
            "|[6.0,113.0,37.82,...| 12.0|\n",
            "|[7.0,89.6,25.5,9....| 9.87|\n",
            "|[7.0,116.0,31.0,9...| 12.0|\n",
            "|[7.0,158.0,43.7,1...| 13.6|\n",
            "|[8.0,77.499,19.5,...|  9.0|\n",
            "|[8.0,91.0,22.44,9...| 11.0|\n",
            "|[9.0,59.058,17.0,...|  7.4|\n",
            "|[9.0,81.0,21.44,9...| 10.0|\n",
            "|[9.0,85.0,19.68,9...| 8.69|\n",
            "|[9.0,90.09,25.01,...| 8.69|\n",
            "|[9.0,105.0,27.2,8...|10.68|\n",
            "+--------------------+-----+\n",
            "only showing top 20 rows\n",
            "\n"
          ]
        }
      ],
      "source": [
        "train_data.show()"
      ]
    },
    {
      "cell_type": "code",
      "execution_count": null,
      "metadata": {
        "id": "z1DMM_NMJv6d",
        "outputId": "9ee827e3-8680-4ac0-efff-88bc4a746068"
      },
      "outputs": [
        {
          "name": "stdout",
          "output_type": "stream",
          "text": [
            "+-------+------------------+\n",
            "|summary|              crew|\n",
            "+-------+------------------+\n",
            "|  count|                25|\n",
            "|   mean|            8.6732|\n",
            "| stddev|2.7322452915749227|\n",
            "|    min|              3.55|\n",
            "|    max|              13.6|\n",
            "+-------+------------------+\n",
            "\n"
          ]
        }
      ],
      "source": [
        "test_data.describe().show()"
      ]
    },
    {
      "cell_type": "code",
      "execution_count": null,
      "metadata": {
        "id": "aJlUbb3vJv6d",
        "outputId": "4360f418-255a-4491-8235-4185a80367f3"
      },
      "outputs": [
        {
          "name": "stdout",
          "output_type": "stream",
          "text": [
            "+--------------------+-----+\n",
            "|            features| crew|\n",
            "+--------------------+-----+\n",
            "|[5.0,115.0,35.74,...| 12.2|\n",
            "|[6.0,30.276999999...| 3.55|\n",
            "|[6.0,90.0,20.0,9....|  9.0|\n",
            "|[6.0,158.0,43.7,1...| 13.6|\n",
            "|[8.0,110.0,29.74,...| 11.6|\n",
            "|[9.0,88.5,21.24,9...| 10.3|\n",
            "|[9.0,116.0,26.0,9...| 11.0|\n",
            "|[10.0,86.0,21.14,...|  9.2|\n",
            "|[11.0,90.0,22.4,9...| 11.0|\n",
            "|[11.0,90.09,25.01...| 8.48|\n",
            "|[11.0,91.0,20.32,...| 9.99|\n",
            "|[11.0,108.977,26....| 12.0|\n",
            "|[11.0,138.0,31.14...|11.85|\n",
            "|[12.0,50.0,7.0,7....| 4.45|\n",
            "|[12.0,91.0,20.32,...| 9.99|\n",
            "|[13.0,76.0,18.74,...|  8.5|\n",
            "|[14.0,63.0,14.4,7...| 5.61|\n",
            "|[17.0,74.137,19.5...|  7.6|\n",
            "|[19.0,55.451,12.6...| 5.88|\n",
            "|[20.0,55.451,12.6...| 5.57|\n",
            "+--------------------+-----+\n",
            "only showing top 20 rows\n",
            "\n"
          ]
        }
      ],
      "source": [
        "test_data.show()"
      ]
    },
    {
      "cell_type": "code",
      "execution_count": null,
      "metadata": {
        "id": "0Y7_5uySJv6e"
      },
      "outputs": [],
      "source": [
        "# building a linear regression model\n",
        "lr = LinearRegression(featuresCol=\"features\", labelCol=\"crew\", predictionCol=\"predicted_value\")\n",
        "lr_model = lr.fit(train_data)"
      ]
    },
    {
      "cell_type": "code",
      "execution_count": null,
      "metadata": {
        "id": "-BRo7kg9Jv6e",
        "outputId": "132c3231-49b6-4420-c909-151037f8d008"
      },
      "outputs": [
        {
          "name": "stdout",
          "output_type": "stream",
          "text": [
            "0.922275480836511\n",
            "rootMeanSquaredError: 1.0040242046607488\n",
            "meanAbsoluteError: 0.6243091780871937\n",
            "explainedVariance: 11.961647070376811\n",
            "Coefficients:  [-0.010903003418631511,0.013324492286938255,-0.14854321913524848,0.3980699041625792,0.803022083753731,0.0011692417052758689]\n",
            "Intercept:  -0.5882123307479032\n",
            "residuals\n",
            "+--------------------+\n",
            "|           residuals|\n",
            "+--------------------+\n",
            "| 0.28735243897406804|\n",
            "|  -1.358436565649498|\n",
            "| 0.28137652305021454|\n",
            "|  0.3389312792518222|\n",
            "|    -1.5600611430706|\n",
            "|-0.43402545527774183|\n",
            "|   0.561603276721268|\n",
            "|  0.4194358696398268|\n",
            "| -0.1595040556845202|\n",
            "|  0.4422316957454058|\n",
            "| -0.9765595666683584|\n",
            "| -0.6087196146569553|\n",
            "|-0.27261237236537816|\n",
            "|  0.2559849418906559|\n",
            "|  0.8975222913458616|\n",
            "|-0.07892431617566498|\n",
            "|  0.4730275977306455|\n",
            "| -0.5071023876001686|\n",
            "| -0.7656083985759796|\n",
            "| -0.4692911007053695|\n",
            "+--------------------+\n",
            "only showing top 20 rows\n",
            "\n"
          ]
        }
      ],
      "source": [
        "model_results=lr_model.evaluate(train_data)\n",
        "print(model_results.r2)\n",
        "print(f'rootMeanSquaredError: {model_results.rootMeanSquaredError}')\n",
        "print(f'meanAbsoluteError: {model_results.meanAbsoluteError}')\n",
        "print(f'explainedVariance: {model_results.explainedVariance}')\n",
        "print(\"Coefficients: \", lr_model.coefficients)\n",
        "print(\"Intercept: \", lr_model.intercept)\n",
        "print('residuals')\n",
        "model_results.residuals.show()\n"
      ]
    },
    {
      "cell_type": "code",
      "execution_count": null,
      "metadata": {
        "id": "W7GqjAeJJv6f"
      },
      "outputs": [],
      "source": [
        "predictions = lr_model.transform(test_data)"
      ]
    },
    {
      "cell_type": "code",
      "execution_count": null,
      "metadata": {
        "id": "meIaMWpRJv6f",
        "outputId": "41518731-2810-4f35-c389-7492bcbc58f2"
      },
      "outputs": [
        {
          "name": "stdout",
          "output_type": "stream",
          "text": [
            "+--------------------+-----+------------------+\n",
            "|            features| crew|   predicted_value|\n",
            "+--------------------+-----+------------------+\n",
            "|[5.0,115.0,35.74,...| 12.2|11.503208271909205|\n",
            "|[6.0,30.276999999...| 3.55|3.9840254552777417|\n",
            "|[6.0,90.0,20.0,9....|  9.0| 9.727816566550349|\n",
            "|[6.0,158.0,43.7,1...| 13.6|13.935264463325144|\n",
            "|[8.0,110.0,29.74,...| 11.6|12.142415881066224|\n",
            "|[9.0,88.5,21.24,9...| 10.3| 9.748050239854877|\n",
            "|[9.0,116.0,26.0,9...| 11.0|11.274281488526832|\n",
            "|[10.0,86.0,21.14,...|  9.2| 9.657409356194098|\n",
            "|[11.0,90.0,22.4,9...| 11.0|10.045892873770686|\n",
            "|[11.0,90.09,25.01...| 8.48| 9.080472674887076|\n",
            "|[11.0,91.0,20.32,...| 9.99| 9.209183752260302|\n",
            "|[11.0,108.977,26....| 12.0|11.160753206540775|\n",
            "|[11.0,138.0,31.14...|11.85|13.120186382254719|\n",
            "|[12.0,50.0,7.0,7....| 4.45| 4.655906440637441|\n",
            "|[12.0,91.0,20.32,...| 9.99| 9.198280748841672|\n",
            "|[13.0,76.0,18.74,...|  8.5|  8.61369958049956|\n",
            "|[14.0,63.0,14.4,7...| 5.61| 6.885482762896711|\n",
            "|[17.0,74.137,19.5...|  7.6|  8.83792193103745|\n",
            "|[19.0,55.451,12.6...| 5.88| 6.059395059630011|\n",
            "|[20.0,55.451,12.6...| 5.57| 6.043514546675915|\n",
            "+--------------------+-----+------------------+\n",
            "only showing top 20 rows\n",
            "\n"
          ]
        }
      ],
      "source": [
        "predictions.show()"
      ]
    },
    {
      "cell_type": "code",
      "execution_count": null,
      "metadata": {
        "id": "ZEmPabuHJv6f",
        "outputId": "83ff3c29-a165-4500-a9c6-86d749f319a6"
      },
      "outputs": [
        {
          "name": "stdout",
          "output_type": "stream",
          "text": [
            "Root Mean Squared Error (RMSE) on test data: 0.683\n"
          ]
        }
      ],
      "source": [
        "evaluator = RegressionEvaluator(labelCol=\"crew\", predictionCol=\"predicted_value\", metricName=\"rmse\")\n",
        "rmse = evaluator.evaluate(predictions)\n",
        "print(\"Root Mean Squared Error (RMSE) on test data: {:.3f}\".format(rmse))"
      ]
    },
    {
      "cell_type": "code",
      "execution_count": null,
      "metadata": {
        "id": "-5YxLlPgJv6g",
        "outputId": "b2a44d34-5834-458f-9e1c-407867a7b40a"
      },
      "outputs": [
        {
          "name": "stdout",
          "output_type": "stream",
          "text": [
            "R-squared (R2) on test data: 0.935\n"
          ]
        }
      ],
      "source": [
        "evaluator_r2 = RegressionEvaluator(labelCol=\"crew\", predictionCol=\"predicted_value\", metricName=\"r2\")\n",
        "r2 = evaluator_r2.evaluate(predictions)\n",
        "print(\"R-squared (R2) on test data: {:.3f}\".format(r2))"
      ]
    },
    {
      "cell_type": "code",
      "execution_count": null,
      "metadata": {
        "id": "v0wGuBOyJv6g"
      },
      "outputs": [],
      "source": [
        "lr_model.save('linear_regression_model')"
      ]
    }
  ],
  "metadata": {
    "anaconda-cloud": {},
    "kernelspec": {
      "display_name": "Python 3 (ipykernel)",
      "language": "python",
      "name": "python3"
    },
    "language_info": {
      "codemirror_mode": {
        "name": "ipython",
        "version": 3
      },
      "file_extension": ".py",
      "mimetype": "text/x-python",
      "name": "python",
      "nbconvert_exporter": "python",
      "pygments_lexer": "ipython3",
      "version": "3.11.5"
    },
    "colab": {
      "provenance": []
    }
  },
  "nbformat": 4,
  "nbformat_minor": 0
}