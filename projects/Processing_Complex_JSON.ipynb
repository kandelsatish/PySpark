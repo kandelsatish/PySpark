{
  "cells": [
    {
      "cell_type": "code",
      "execution_count": null,
      "metadata": {
        "id": "Z7Ep8X-hyijK"
      },
      "outputs": [],
      "source": [
        "from pyspark import SparkContext\n",
        "from pyspark.sql import SparkSession\n",
        "import re\n",
        "import json\n",
        "from pyspark.sql import functions as F\n",
        "from pyspark.sql.types import StringType,StructField,StructType,ArrayType,MapType,LongType,BooleanType,Row\n",
        "from google.colab import drive"
      ]
    },
    {
      "cell_type": "code",
      "source": [
        "spark=SparkSession.builder.appName('FinQA_preprocessing').getOrCreate()\n",
        "spark"
      ],
      "metadata": {
        "colab": {
          "base_uri": "https://localhost:8080/",
          "height": 219
        },
        "id": "kJ5mqTecfJ48",
        "outputId": "043bde82-69e5-4833-f8e9-6f2d59a5e1f5"
      },
      "execution_count": null,
      "outputs": [
        {
          "output_type": "execute_result",
          "data": {
            "text/plain": [
              "<pyspark.sql.session.SparkSession at 0x7bf33df90310>"
            ],
            "text/html": [
              "\n",
              "            <div>\n",
              "                <p><b>SparkSession - in-memory</b></p>\n",
              "                \n",
              "        <div>\n",
              "            <p><b>SparkContext</b></p>\n",
              "\n",
              "            <p><a href=\"http://8de5aee1ed45:4040\">Spark UI</a></p>\n",
              "\n",
              "            <dl>\n",
              "              <dt>Version</dt>\n",
              "                <dd><code>v3.5.3</code></dd>\n",
              "              <dt>Master</dt>\n",
              "                <dd><code>local[*]</code></dd>\n",
              "              <dt>AppName</dt>\n",
              "                <dd><code>test</code></dd>\n",
              "            </dl>\n",
              "        </div>\n",
              "        \n",
              "            </div>\n",
              "        "
            ]
          },
          "metadata": {},
          "execution_count": 79
        }
      ]
    },
    {
      "cell_type": "code",
      "source": [
        "drive.mount('/content/drive')"
      ],
      "metadata": {
        "colab": {
          "base_uri": "https://localhost:8080/"
        },
        "id": "m8dzAN26Ttzp",
        "outputId": "fc3ef530-2383-4a82-e53c-a89f23ceff46"
      },
      "execution_count": null,
      "outputs": [
        {
          "output_type": "stream",
          "name": "stdout",
          "text": [
            "Drive already mounted at /content/drive; to attempt to forcibly remount, call drive.mount(\"/content/drive\", force_remount=True).\n"
          ]
        }
      ]
    },
    {
      "cell_type": "code",
      "execution_count": null,
      "metadata": {
        "id": "dlpv-hqZ1LKm"
      },
      "outputs": [],
      "source": [
        "# variables\n",
        "train_path='/content/drive/MyDrive/FinQA/train1.json'\n",
        "test_path='/content/drive/MyDrive/FinQA/test1.json'"
      ]
    },
    {
      "cell_type": "code",
      "source": [
        "df = spark.read.option(\"multiline\", \"true\").option(\"mode\", \"PERMISSIVE\").json(train_path)"
      ],
      "metadata": {
        "id": "IOngzvE5fUZk"
      },
      "execution_count": null,
      "outputs": []
    },
    {
      "cell_type": "code",
      "source": [
        "# df.show(5,truncate=False)\n",
        "df.count()"
      ],
      "metadata": {
        "colab": {
          "base_uri": "https://localhost:8080/"
        },
        "id": "hWC4F8Nzfn50",
        "outputId": "a986b17d-8483-4fac-fadc-d51e4a6b1537"
      },
      "execution_count": null,
      "outputs": [
        {
          "output_type": "execute_result",
          "data": {
            "text/plain": [
              "2201"
            ]
          },
          "metadata": {},
          "execution_count": 83
        }
      ]
    },
    {
      "cell_type": "code",
      "source": [
        "df.printSchema()\n",
        "original_schema = df.schema"
      ],
      "metadata": {
        "colab": {
          "base_uri": "https://localhost:8080/"
        },
        "id": "0IAimwV8hn1k",
        "outputId": "c3810f34-8a9a-435b-bb73-f1909a9e60b0"
      },
      "execution_count": null,
      "outputs": [
        {
          "output_type": "stream",
          "name": "stdout",
          "text": [
            "root\n",
            " |-- paragraphs: array (nullable = true)\n",
            " |    |-- element: struct (containsNull = true)\n",
            " |    |    |-- order: long (nullable = true)\n",
            " |    |    |-- text: string (nullable = true)\n",
            " |    |    |-- uid: string (nullable = true)\n",
            " |-- questions: array (nullable = true)\n",
            " |    |-- element: struct (containsNull = true)\n",
            " |    |    |-- answer: string (nullable = true)\n",
            " |    |    |-- answer_from: string (nullable = true)\n",
            " |    |    |-- answer_type: string (nullable = true)\n",
            " |    |    |-- derivation: string (nullable = true)\n",
            " |    |    |-- order: long (nullable = true)\n",
            " |    |    |-- question: string (nullable = true)\n",
            " |    |    |-- rel_paragraphs: array (nullable = true)\n",
            " |    |    |    |-- element: string (containsNull = true)\n",
            " |    |    |-- req_comparison: boolean (nullable = true)\n",
            " |    |    |-- scale: string (nullable = true)\n",
            " |    |    |-- uid: string (nullable = true)\n",
            " |-- table: struct (nullable = true)\n",
            " |    |-- table: array (nullable = true)\n",
            " |    |    |-- element: array (containsNull = true)\n",
            " |    |    |    |-- element: string (containsNull = true)\n",
            " |    |-- uid: string (nullable = true)\n",
            "\n"
          ]
        }
      ]
    },
    {
      "cell_type": "code",
      "source": [
        "questions_df = df.withColumn(\"question\", F.explode(\"questions\"))"
      ],
      "metadata": {
        "id": "xhIFROTHiZf7"
      },
      "execution_count": null,
      "outputs": []
    },
    {
      "cell_type": "code",
      "source": [
        "questions_df.count()"
      ],
      "metadata": {
        "colab": {
          "base_uri": "https://localhost:8080/"
        },
        "id": "WH5EWz5Wsn3o",
        "outputId": "3d9993bb-a301-4c06-dd28-132dc15f2bda"
      },
      "execution_count": null,
      "outputs": [
        {
          "output_type": "execute_result",
          "data": {
            "text/plain": [
              "13213"
            ]
          },
          "metadata": {},
          "execution_count": 86
        }
      ]
    },
    {
      "cell_type": "code",
      "source": [
        "questions_df.select(\"table\").show(5,truncate=False)"
      ],
      "metadata": {
        "colab": {
          "base_uri": "https://localhost:8080/"
        },
        "id": "23Pr_Qs0Xr5k",
        "outputId": "dfaecd91-b5cd-4d3c-967c-437e68b07e43"
      },
      "execution_count": null,
      "outputs": [
        {
          "output_type": "stream",
          "name": "stdout",
          "text": [
            "+-----------------------------------------------------------------------------------------------------------------------------------------------------------------------------------------------------------------------------------------------------+\n",
            "|table                                                                                                                                                                                                                                                |\n",
            "+-----------------------------------------------------------------------------------------------------------------------------------------------------------------------------------------------------------------------------------------------------+\n",
            "|{[[Weighted average actuarial assumptions used at 31 March1:, , , ], [, 2019, 2018, 2017], [Rate of inflation2, 2.9, 2.9, 3.0], [Rate of increase in salaries, 2.7, 2.7, 2.6], [Discount rate, 2.3, 2.5, 2.6]], e78f8b29-6085-43de-b32f-be1a68641be3}|\n",
            "|{[[Weighted average actuarial assumptions used at 31 March1:, , , ], [, 2019, 2018, 2017], [Rate of inflation2, 2.9, 2.9, 3.0], [Rate of increase in salaries, 2.7, 2.7, 2.6], [Discount rate, 2.3, 2.5, 2.6]], e78f8b29-6085-43de-b32f-be1a68641be3}|\n",
            "|{[[Weighted average actuarial assumptions used at 31 March1:, , , ], [, 2019, 2018, 2017], [Rate of inflation2, 2.9, 2.9, 3.0], [Rate of increase in salaries, 2.7, 2.7, 2.6], [Discount rate, 2.3, 2.5, 2.6]], e78f8b29-6085-43de-b32f-be1a68641be3}|\n",
            "|{[[Weighted average actuarial assumptions used at 31 March1:, , , ], [, 2019, 2018, 2017], [Rate of inflation2, 2.9, 2.9, 3.0], [Rate of increase in salaries, 2.7, 2.7, 2.6], [Discount rate, 2.3, 2.5, 2.6]], e78f8b29-6085-43de-b32f-be1a68641be3}|\n",
            "|{[[Weighted average actuarial assumptions used at 31 March1:, , , ], [, 2019, 2018, 2017], [Rate of inflation2, 2.9, 2.9, 3.0], [Rate of increase in salaries, 2.7, 2.7, 2.6], [Discount rate, 2.3, 2.5, 2.6]], e78f8b29-6085-43de-b32f-be1a68641be3}|\n",
            "+-----------------------------------------------------------------------------------------------------------------------------------------------------------------------------------------------------------------------------------------------------+\n",
            "only showing top 5 rows\n",
            "\n"
          ]
        }
      ]
    },
    {
      "cell_type": "code",
      "source": [
        "questions_df.show(10,truncate=False)"
      ],
      "metadata": {
        "colab": {
          "base_uri": "https://localhost:8080/"
        },
        "id": "lKYi0U0ji84f",
        "outputId": "f9fd280f-f6a6-42af-834a-787c34df78a4"
      },
      "execution_count": null,
      "outputs": [
        {
          "output_type": "stream",
          "name": "stdout",
          "text": [
            "+--------------------------------------------------------------------------------------------------------------------------------------------------------------------------------------------------------------------------------------------------------------------------------------------------------------------------------------------------------------------------------------------------------------------------------------------------------------------------------------------------------------------------------------------------------------------------------------------------------------------------------------------------------------------------------------------------------------------------------------------------------------------------------------------------------------------------------------------------------------------------------------------------------------------------------------------------------------------------------------------------------------------------------------------------------------------------------------------------------------------------------------------------------------------------------------------------------------------------------------------------------------------------------------------------------------------------------------------------------------------------------------------------------------------------------------------------------------------------------------------------------------------------------------------------------------------------------------------------------------------------------------------------------------------------------------------------------------------------------------------------------------------------------------------------------------------------------------------------------------------------------------------------------------------------------------------------------------------------------------------------------------------------------------------------------------------------------------------------+--------------------------------------------------------------------------------------------------------------------------------------------------------------------------------------------------------------------------------------------------------------------------------------------------------------------------------------------------------------------------------------------------------------------------------------------------------------------------------------------------------------------------------------------------------------------------------------------------------------------------------------------------------------------------------------------------------------------------------------------------------------------------------------------------------------------------------------------------------------------------------------------------------------------------------------------------------------------------------------------------------------------------------------+----------------------------------------------------------------------------------------------------------------------------------------------------------------------------------------------------------------------------------------------------------------------------------------------------------------------------------+----------------------------------------------------------------------------------------------------------------------------------------------------------------------------------------------------------------------------------+\n",
            "|paragraphs                                                                                                                                                                                                                                                                                                                                                                                                                                                                                                                                                                                                                                                                                                                                                                                                                                                                                                                                                                                                                                                                                                                                                                                                                                                                                                                                                                                                                                                                                                                                                                                                                                                                                                                                                                                                                                                                                                                                                                                                                                                                                        |questions                                                                                                                                                                                                                                                                                                                                                                                                                                                                                                                                                                                                                                                                                                                                                                                                                                                                                                                                                                                                                             |table                                                                                                                                                                                                                                                                                                                             |question                                                                                                                                                                                                                          |\n",
            "+--------------------------------------------------------------------------------------------------------------------------------------------------------------------------------------------------------------------------------------------------------------------------------------------------------------------------------------------------------------------------------------------------------------------------------------------------------------------------------------------------------------------------------------------------------------------------------------------------------------------------------------------------------------------------------------------------------------------------------------------------------------------------------------------------------------------------------------------------------------------------------------------------------------------------------------------------------------------------------------------------------------------------------------------------------------------------------------------------------------------------------------------------------------------------------------------------------------------------------------------------------------------------------------------------------------------------------------------------------------------------------------------------------------------------------------------------------------------------------------------------------------------------------------------------------------------------------------------------------------------------------------------------------------------------------------------------------------------------------------------------------------------------------------------------------------------------------------------------------------------------------------------------------------------------------------------------------------------------------------------------------------------------------------------------------------------------------------------------+--------------------------------------------------------------------------------------------------------------------------------------------------------------------------------------------------------------------------------------------------------------------------------------------------------------------------------------------------------------------------------------------------------------------------------------------------------------------------------------------------------------------------------------------------------------------------------------------------------------------------------------------------------------------------------------------------------------------------------------------------------------------------------------------------------------------------------------------------------------------------------------------------------------------------------------------------------------------------------------------------------------------------------------+----------------------------------------------------------------------------------------------------------------------------------------------------------------------------------------------------------------------------------------------------------------------------------------------------------------------------------+----------------------------------------------------------------------------------------------------------------------------------------------------------------------------------------------------------------------------------+\n",
            "|[{1, Actuarial assumptions, 62be4f5a-1693-4e6b-8bb4-0a4e1e40b409}, {2, The Group’s scheme liabilities are measured using the projected unit credit method using the principal actuarial assumptions set out below:, c63e6ed5-8fe5-46e4-a02a-f923e90e8067}, {3, Notes: 1 Figures shown represent a weighted average assumption of the individual schemes.Weighted average actuarial assumptions are rate of inflation, rate of increase in salaries and discount rate., b4093fd4-43ea-4b31-9975-13c0012a0b18}, {4, 2 The rate of increases in pensions in payment and deferred revaluation are dependent on the rate of inflation., 9f6ecb32-9e2c-4036-8209-8905855145c0}]                                                                                                                                                                                                                                                                                                                                                                                                                                                                                                                                                                                                                                                                                                                                                                                                                                                                                                                                                                                                                                                                                                                                                                                                                                                                                                                                                                                                                         |[{[\"Rate of inflation\",\"Rate of increase in salaries\",\"Discount rate\"], table, multi-span, , 1, What does the Weighted average actuarial assumptions consist of?, [], false, , 9c569bea-e036-4c27-8e41-82c6efab1d31}, {[\"2.9\"], table, span, , 2, How much is the 2019 rate of inflation?, [], false, percent, 83dcc128-9777-4ae2-ba55-50162ac43257}, {[\"2.9\"], table, span, , 3, How much is the 2018 rate of inflation?, [], false, percent, 0384152d-1f9f-4b12-85a9-2ca5e1c97682}, {2.9, table, arithmetic, (2.9+2.9)/2, 4, What is the 2019 average rate of inflation?, [], false, percent, dbee8930-0110-41c7-95fe-0178ddf4f841}, {2.7, table, arithmetic, (2.7+2.7)/2, 5, What is the 2019 average rate of increase in salaries?, [], false, percent, 1665b441-93e5-481d-b0b4-2d28ce70e1a8}, {0.2, table, arithmetic, [(2.9+2.9)/2] - [(2.7+2.7)/2], 6, What is the difference between 2019 average rate of inflation and 2019 average rate of increase in salaries?, [], false, percent, 2cec8a99-3a83-409b-886b-dbb65a05fb25}]|{[[Weighted average actuarial assumptions used at 31 March1:, , , ], [, 2019, 2018, 2017], [Rate of inflation2, 2.9, 2.9, 3.0], [Rate of increase in salaries, 2.7, 2.7, 2.6], [Discount rate, 2.3, 2.5, 2.6]], e78f8b29-6085-43de-b32f-be1a68641be3}                                                                             |{[\"Rate of inflation\",\"Rate of increase in salaries\",\"Discount rate\"], table, multi-span, , 1, What does the Weighted average actuarial assumptions consist of?, [], false, , 9c569bea-e036-4c27-8e41-82c6efab1d31}               |\n",
            "|[{1, Actuarial assumptions, 62be4f5a-1693-4e6b-8bb4-0a4e1e40b409}, {2, The Group’s scheme liabilities are measured using the projected unit credit method using the principal actuarial assumptions set out below:, c63e6ed5-8fe5-46e4-a02a-f923e90e8067}, {3, Notes: 1 Figures shown represent a weighted average assumption of the individual schemes.Weighted average actuarial assumptions are rate of inflation, rate of increase in salaries and discount rate., b4093fd4-43ea-4b31-9975-13c0012a0b18}, {4, 2 The rate of increases in pensions in payment and deferred revaluation are dependent on the rate of inflation., 9f6ecb32-9e2c-4036-8209-8905855145c0}]                                                                                                                                                                                                                                                                                                                                                                                                                                                                                                                                                                                                                                                                                                                                                                                                                                                                                                                                                                                                                                                                                                                                                                                                                                                                                                                                                                                                                         |[{[\"Rate of inflation\",\"Rate of increase in salaries\",\"Discount rate\"], table, multi-span, , 1, What does the Weighted average actuarial assumptions consist of?, [], false, , 9c569bea-e036-4c27-8e41-82c6efab1d31}, {[\"2.9\"], table, span, , 2, How much is the 2019 rate of inflation?, [], false, percent, 83dcc128-9777-4ae2-ba55-50162ac43257}, {[\"2.9\"], table, span, , 3, How much is the 2018 rate of inflation?, [], false, percent, 0384152d-1f9f-4b12-85a9-2ca5e1c97682}, {2.9, table, arithmetic, (2.9+2.9)/2, 4, What is the 2019 average rate of inflation?, [], false, percent, dbee8930-0110-41c7-95fe-0178ddf4f841}, {2.7, table, arithmetic, (2.7+2.7)/2, 5, What is the 2019 average rate of increase in salaries?, [], false, percent, 1665b441-93e5-481d-b0b4-2d28ce70e1a8}, {0.2, table, arithmetic, [(2.9+2.9)/2] - [(2.7+2.7)/2], 6, What is the difference between 2019 average rate of inflation and 2019 average rate of increase in salaries?, [], false, percent, 2cec8a99-3a83-409b-886b-dbb65a05fb25}]|{[[Weighted average actuarial assumptions used at 31 March1:, , , ], [, 2019, 2018, 2017], [Rate of inflation2, 2.9, 2.9, 3.0], [Rate of increase in salaries, 2.7, 2.7, 2.6], [Discount rate, 2.3, 2.5, 2.6]], e78f8b29-6085-43de-b32f-be1a68641be3}                                                                             |{[\"2.9\"], table, span, , 2, How much is the 2019 rate of inflation?, [], false, percent, 83dcc128-9777-4ae2-ba55-50162ac43257}                                                                                                    |\n",
            "|[{1, Actuarial assumptions, 62be4f5a-1693-4e6b-8bb4-0a4e1e40b409}, {2, The Group’s scheme liabilities are measured using the projected unit credit method using the principal actuarial assumptions set out below:, c63e6ed5-8fe5-46e4-a02a-f923e90e8067}, {3, Notes: 1 Figures shown represent a weighted average assumption of the individual schemes.Weighted average actuarial assumptions are rate of inflation, rate of increase in salaries and discount rate., b4093fd4-43ea-4b31-9975-13c0012a0b18}, {4, 2 The rate of increases in pensions in payment and deferred revaluation are dependent on the rate of inflation., 9f6ecb32-9e2c-4036-8209-8905855145c0}]                                                                                                                                                                                                                                                                                                                                                                                                                                                                                                                                                                                                                                                                                                                                                                                                                                                                                                                                                                                                                                                                                                                                                                                                                                                                                                                                                                                                                         |[{[\"Rate of inflation\",\"Rate of increase in salaries\",\"Discount rate\"], table, multi-span, , 1, What does the Weighted average actuarial assumptions consist of?, [], false, , 9c569bea-e036-4c27-8e41-82c6efab1d31}, {[\"2.9\"], table, span, , 2, How much is the 2019 rate of inflation?, [], false, percent, 83dcc128-9777-4ae2-ba55-50162ac43257}, {[\"2.9\"], table, span, , 3, How much is the 2018 rate of inflation?, [], false, percent, 0384152d-1f9f-4b12-85a9-2ca5e1c97682}, {2.9, table, arithmetic, (2.9+2.9)/2, 4, What is the 2019 average rate of inflation?, [], false, percent, dbee8930-0110-41c7-95fe-0178ddf4f841}, {2.7, table, arithmetic, (2.7+2.7)/2, 5, What is the 2019 average rate of increase in salaries?, [], false, percent, 1665b441-93e5-481d-b0b4-2d28ce70e1a8}, {0.2, table, arithmetic, [(2.9+2.9)/2] - [(2.7+2.7)/2], 6, What is the difference between 2019 average rate of inflation and 2019 average rate of increase in salaries?, [], false, percent, 2cec8a99-3a83-409b-886b-dbb65a05fb25}]|{[[Weighted average actuarial assumptions used at 31 March1:, , , ], [, 2019, 2018, 2017], [Rate of inflation2, 2.9, 2.9, 3.0], [Rate of increase in salaries, 2.7, 2.7, 2.6], [Discount rate, 2.3, 2.5, 2.6]], e78f8b29-6085-43de-b32f-be1a68641be3}                                                                             |{[\"2.9\"], table, span, , 3, How much is the 2018 rate of inflation?, [], false, percent, 0384152d-1f9f-4b12-85a9-2ca5e1c97682}                                                                                                    |\n",
            "|[{1, Actuarial assumptions, 62be4f5a-1693-4e6b-8bb4-0a4e1e40b409}, {2, The Group’s scheme liabilities are measured using the projected unit credit method using the principal actuarial assumptions set out below:, c63e6ed5-8fe5-46e4-a02a-f923e90e8067}, {3, Notes: 1 Figures shown represent a weighted average assumption of the individual schemes.Weighted average actuarial assumptions are rate of inflation, rate of increase in salaries and discount rate., b4093fd4-43ea-4b31-9975-13c0012a0b18}, {4, 2 The rate of increases in pensions in payment and deferred revaluation are dependent on the rate of inflation., 9f6ecb32-9e2c-4036-8209-8905855145c0}]                                                                                                                                                                                                                                                                                                                                                                                                                                                                                                                                                                                                                                                                                                                                                                                                                                                                                                                                                                                                                                                                                                                                                                                                                                                                                                                                                                                                                         |[{[\"Rate of inflation\",\"Rate of increase in salaries\",\"Discount rate\"], table, multi-span, , 1, What does the Weighted average actuarial assumptions consist of?, [], false, , 9c569bea-e036-4c27-8e41-82c6efab1d31}, {[\"2.9\"], table, span, , 2, How much is the 2019 rate of inflation?, [], false, percent, 83dcc128-9777-4ae2-ba55-50162ac43257}, {[\"2.9\"], table, span, , 3, How much is the 2018 rate of inflation?, [], false, percent, 0384152d-1f9f-4b12-85a9-2ca5e1c97682}, {2.9, table, arithmetic, (2.9+2.9)/2, 4, What is the 2019 average rate of inflation?, [], false, percent, dbee8930-0110-41c7-95fe-0178ddf4f841}, {2.7, table, arithmetic, (2.7+2.7)/2, 5, What is the 2019 average rate of increase in salaries?, [], false, percent, 1665b441-93e5-481d-b0b4-2d28ce70e1a8}, {0.2, table, arithmetic, [(2.9+2.9)/2] - [(2.7+2.7)/2], 6, What is the difference between 2019 average rate of inflation and 2019 average rate of increase in salaries?, [], false, percent, 2cec8a99-3a83-409b-886b-dbb65a05fb25}]|{[[Weighted average actuarial assumptions used at 31 March1:, , , ], [, 2019, 2018, 2017], [Rate of inflation2, 2.9, 2.9, 3.0], [Rate of increase in salaries, 2.7, 2.7, 2.6], [Discount rate, 2.3, 2.5, 2.6]], e78f8b29-6085-43de-b32f-be1a68641be3}                                                                             |{2.9, table, arithmetic, (2.9+2.9)/2, 4, What is the 2019 average rate of inflation?, [], false, percent, dbee8930-0110-41c7-95fe-0178ddf4f841}                                                                                   |\n",
            "|[{1, Actuarial assumptions, 62be4f5a-1693-4e6b-8bb4-0a4e1e40b409}, {2, The Group’s scheme liabilities are measured using the projected unit credit method using the principal actuarial assumptions set out below:, c63e6ed5-8fe5-46e4-a02a-f923e90e8067}, {3, Notes: 1 Figures shown represent a weighted average assumption of the individual schemes.Weighted average actuarial assumptions are rate of inflation, rate of increase in salaries and discount rate., b4093fd4-43ea-4b31-9975-13c0012a0b18}, {4, 2 The rate of increases in pensions in payment and deferred revaluation are dependent on the rate of inflation., 9f6ecb32-9e2c-4036-8209-8905855145c0}]                                                                                                                                                                                                                                                                                                                                                                                                                                                                                                                                                                                                                                                                                                                                                                                                                                                                                                                                                                                                                                                                                                                                                                                                                                                                                                                                                                                                                         |[{[\"Rate of inflation\",\"Rate of increase in salaries\",\"Discount rate\"], table, multi-span, , 1, What does the Weighted average actuarial assumptions consist of?, [], false, , 9c569bea-e036-4c27-8e41-82c6efab1d31}, {[\"2.9\"], table, span, , 2, How much is the 2019 rate of inflation?, [], false, percent, 83dcc128-9777-4ae2-ba55-50162ac43257}, {[\"2.9\"], table, span, , 3, How much is the 2018 rate of inflation?, [], false, percent, 0384152d-1f9f-4b12-85a9-2ca5e1c97682}, {2.9, table, arithmetic, (2.9+2.9)/2, 4, What is the 2019 average rate of inflation?, [], false, percent, dbee8930-0110-41c7-95fe-0178ddf4f841}, {2.7, table, arithmetic, (2.7+2.7)/2, 5, What is the 2019 average rate of increase in salaries?, [], false, percent, 1665b441-93e5-481d-b0b4-2d28ce70e1a8}, {0.2, table, arithmetic, [(2.9+2.9)/2] - [(2.7+2.7)/2], 6, What is the difference between 2019 average rate of inflation and 2019 average rate of increase in salaries?, [], false, percent, 2cec8a99-3a83-409b-886b-dbb65a05fb25}]|{[[Weighted average actuarial assumptions used at 31 March1:, , , ], [, 2019, 2018, 2017], [Rate of inflation2, 2.9, 2.9, 3.0], [Rate of increase in salaries, 2.7, 2.7, 2.6], [Discount rate, 2.3, 2.5, 2.6]], e78f8b29-6085-43de-b32f-be1a68641be3}                                                                             |{2.7, table, arithmetic, (2.7+2.7)/2, 5, What is the 2019 average rate of increase in salaries?, [], false, percent, 1665b441-93e5-481d-b0b4-2d28ce70e1a8}                                                                        |\n",
            "|[{1, Actuarial assumptions, 62be4f5a-1693-4e6b-8bb4-0a4e1e40b409}, {2, The Group’s scheme liabilities are measured using the projected unit credit method using the principal actuarial assumptions set out below:, c63e6ed5-8fe5-46e4-a02a-f923e90e8067}, {3, Notes: 1 Figures shown represent a weighted average assumption of the individual schemes.Weighted average actuarial assumptions are rate of inflation, rate of increase in salaries and discount rate., b4093fd4-43ea-4b31-9975-13c0012a0b18}, {4, 2 The rate of increases in pensions in payment and deferred revaluation are dependent on the rate of inflation., 9f6ecb32-9e2c-4036-8209-8905855145c0}]                                                                                                                                                                                                                                                                                                                                                                                                                                                                                                                                                                                                                                                                                                                                                                                                                                                                                                                                                                                                                                                                                                                                                                                                                                                                                                                                                                                                                         |[{[\"Rate of inflation\",\"Rate of increase in salaries\",\"Discount rate\"], table, multi-span, , 1, What does the Weighted average actuarial assumptions consist of?, [], false, , 9c569bea-e036-4c27-8e41-82c6efab1d31}, {[\"2.9\"], table, span, , 2, How much is the 2019 rate of inflation?, [], false, percent, 83dcc128-9777-4ae2-ba55-50162ac43257}, {[\"2.9\"], table, span, , 3, How much is the 2018 rate of inflation?, [], false, percent, 0384152d-1f9f-4b12-85a9-2ca5e1c97682}, {2.9, table, arithmetic, (2.9+2.9)/2, 4, What is the 2019 average rate of inflation?, [], false, percent, dbee8930-0110-41c7-95fe-0178ddf4f841}, {2.7, table, arithmetic, (2.7+2.7)/2, 5, What is the 2019 average rate of increase in salaries?, [], false, percent, 1665b441-93e5-481d-b0b4-2d28ce70e1a8}, {0.2, table, arithmetic, [(2.9+2.9)/2] - [(2.7+2.7)/2], 6, What is the difference between 2019 average rate of inflation and 2019 average rate of increase in salaries?, [], false, percent, 2cec8a99-3a83-409b-886b-dbb65a05fb25}]|{[[Weighted average actuarial assumptions used at 31 March1:, , , ], [, 2019, 2018, 2017], [Rate of inflation2, 2.9, 2.9, 3.0], [Rate of increase in salaries, 2.7, 2.7, 2.6], [Discount rate, 2.3, 2.5, 2.6]], e78f8b29-6085-43de-b32f-be1a68641be3}                                                                             |{0.2, table, arithmetic, [(2.9+2.9)/2] - [(2.7+2.7)/2], 6, What is the difference between 2019 average rate of inflation and 2019 average rate of increase in salaries?, [], false, percent, 2cec8a99-3a83-409b-886b-dbb65a05fb25}|\n",
            "|[{1, 11 Intangible assets (continued), 1ef0dbdd-15d0-4577-b068-dca80af4f851}, {2, (a) Intangible assets, 87193521-f886-49d3-b059-f8e7f5fc7dc1}, {3, RIGHTS AND LICENCES, 1ef948be-979b-4ac2-9593-67114ccef125}, {4, Certain licences that NEXTDC possesses have an indefinite useful life and are carried at cost less impairment losses and are subject to impairment review at least annually and whenever there is an indication that it may be impaired., 5874de4f-3b36-4659-ad37-059679ef445d}, {5, Other licences that NEXTDC acquires are carried at cost less accumulated amortisation and accumulated impairment losses. Amortisation is recognised on a straight-line basis over the estimated useful life. The estimated useful life and amortisation method are reviewed at the end of each annual reporting period., faa001e2-1bc2-446b-9c2c-9d4479013962}, {6, INTERNALLY GENERATED SOFTWARE, 82ad7605-6ce3-40a1-919f-a8c7b3ca36ab}, {7, Internally developed software is capitalised at cost less accumulated amortisation. Amortisation is calculated using the straight-line basis over the asset’s useful economic life which is generally two to three years. Their useful lives and potential impairment are reviewed at the end of each financial year., ddf26912-5783-4b3b-b351-87e91b4a5f5b}, {8, SOFTWARE UNDER DEVELOPMENT, ba5b9da5-9420-4035-ae46-6239e4548a9e}, {9, Costs incurred in developing products or systems and costs incurred in acquiring software and licenses that will contribute to future period financial benefits through revenue generation and/or cost reduction are capitalised to software and systems. Costs capitalised include external direct costs of materials and services and employee costs., 5f491929-b2e4-4fad-909b-bb77e3a440b4}, {10, Assets in the course of construction include only those costs directly attributable to the development phase and are only recognised following completion of technical feasibility and where the Group has an intention and ability to use the asset., 5f92f6fc-fdca-4f15-bab6-bcecd521d07a}]|[{[\"at cost less accumulated amortisation.\"], text, span, , 1, How was internally developed software capitalised?, [7], false, , dd2a72ca-f65c-4673-9820-f7cefcb06ee4}, {[\"16,284\"], table, span, , 2, How much was the closing net book amount for software under development in 2019?, [], false, thousand, f4410a2a-6ce4-484c-ba08-0261a6c74893}, {[\"29,259\"], table, span, , 3, What was the total cost for 2019?, [], false, thousand, b3091542-8205-4661-9a7d-4d466cdf3134}, {150.18, table, arithmetic, (16,284 - 6,509) / 6,509 , 4, What was the percentage change in cost of software under development between 2018 and 2019?, [], false, percent, aa051557-3b4c-497f-b14e-2c8b8b2c99ef}]                                                                                                                                                                                                                                                                                                                                  |{[[At 30 June, , , ], [, 2019, 2018, 2017], [Movements, $'000, $'000, $'000], [Cost of Rights and licenses, 13, 104, 128], [cost of internally generated software, 12,961, 9,555, 3,400], [cost of software under development, 16,284, 6,509, 8,053], [total cost, 29,259, 16,168, 11,581]], 98c16699-d385-4631-91de-1bc3c87f9f99}|{[\"at cost less accumulated amortisation.\"], text, span, , 1, How was internally developed software capitalised?, [7], false, , dd2a72ca-f65c-4673-9820-f7cefcb06ee4}                                                             |\n",
            "|[{1, 11 Intangible assets (continued), 1ef0dbdd-15d0-4577-b068-dca80af4f851}, {2, (a) Intangible assets, 87193521-f886-49d3-b059-f8e7f5fc7dc1}, {3, RIGHTS AND LICENCES, 1ef948be-979b-4ac2-9593-67114ccef125}, {4, Certain licences that NEXTDC possesses have an indefinite useful life and are carried at cost less impairment losses and are subject to impairment review at least annually and whenever there is an indication that it may be impaired., 5874de4f-3b36-4659-ad37-059679ef445d}, {5, Other licences that NEXTDC acquires are carried at cost less accumulated amortisation and accumulated impairment losses. Amortisation is recognised on a straight-line basis over the estimated useful life. The estimated useful life and amortisation method are reviewed at the end of each annual reporting period., faa001e2-1bc2-446b-9c2c-9d4479013962}, {6, INTERNALLY GENERATED SOFTWARE, 82ad7605-6ce3-40a1-919f-a8c7b3ca36ab}, {7, Internally developed software is capitalised at cost less accumulated amortisation. Amortisation is calculated using the straight-line basis over the asset’s useful economic life which is generally two to three years. Their useful lives and potential impairment are reviewed at the end of each financial year., ddf26912-5783-4b3b-b351-87e91b4a5f5b}, {8, SOFTWARE UNDER DEVELOPMENT, ba5b9da5-9420-4035-ae46-6239e4548a9e}, {9, Costs incurred in developing products or systems and costs incurred in acquiring software and licenses that will contribute to future period financial benefits through revenue generation and/or cost reduction are capitalised to software and systems. Costs capitalised include external direct costs of materials and services and employee costs., 5f491929-b2e4-4fad-909b-bb77e3a440b4}, {10, Assets in the course of construction include only those costs directly attributable to the development phase and are only recognised following completion of technical feasibility and where the Group has an intention and ability to use the asset., 5f92f6fc-fdca-4f15-bab6-bcecd521d07a}]|[{[\"at cost less accumulated amortisation.\"], text, span, , 1, How was internally developed software capitalised?, [7], false, , dd2a72ca-f65c-4673-9820-f7cefcb06ee4}, {[\"16,284\"], table, span, , 2, How much was the closing net book amount for software under development in 2019?, [], false, thousand, f4410a2a-6ce4-484c-ba08-0261a6c74893}, {[\"29,259\"], table, span, , 3, What was the total cost for 2019?, [], false, thousand, b3091542-8205-4661-9a7d-4d466cdf3134}, {150.18, table, arithmetic, (16,284 - 6,509) / 6,509 , 4, What was the percentage change in cost of software under development between 2018 and 2019?, [], false, percent, aa051557-3b4c-497f-b14e-2c8b8b2c99ef}]                                                                                                                                                                                                                                                                                                                                  |{[[At 30 June, , , ], [, 2019, 2018, 2017], [Movements, $'000, $'000, $'000], [Cost of Rights and licenses, 13, 104, 128], [cost of internally generated software, 12,961, 9,555, 3,400], [cost of software under development, 16,284, 6,509, 8,053], [total cost, 29,259, 16,168, 11,581]], 98c16699-d385-4631-91de-1bc3c87f9f99}|{[\"16,284\"], table, span, , 2, How much was the closing net book amount for software under development in 2019?, [], false, thousand, f4410a2a-6ce4-484c-ba08-0261a6c74893}                                                       |\n",
            "|[{1, 11 Intangible assets (continued), 1ef0dbdd-15d0-4577-b068-dca80af4f851}, {2, (a) Intangible assets, 87193521-f886-49d3-b059-f8e7f5fc7dc1}, {3, RIGHTS AND LICENCES, 1ef948be-979b-4ac2-9593-67114ccef125}, {4, Certain licences that NEXTDC possesses have an indefinite useful life and are carried at cost less impairment losses and are subject to impairment review at least annually and whenever there is an indication that it may be impaired., 5874de4f-3b36-4659-ad37-059679ef445d}, {5, Other licences that NEXTDC acquires are carried at cost less accumulated amortisation and accumulated impairment losses. Amortisation is recognised on a straight-line basis over the estimated useful life. The estimated useful life and amortisation method are reviewed at the end of each annual reporting period., faa001e2-1bc2-446b-9c2c-9d4479013962}, {6, INTERNALLY GENERATED SOFTWARE, 82ad7605-6ce3-40a1-919f-a8c7b3ca36ab}, {7, Internally developed software is capitalised at cost less accumulated amortisation. Amortisation is calculated using the straight-line basis over the asset’s useful economic life which is generally two to three years. Their useful lives and potential impairment are reviewed at the end of each financial year., ddf26912-5783-4b3b-b351-87e91b4a5f5b}, {8, SOFTWARE UNDER DEVELOPMENT, ba5b9da5-9420-4035-ae46-6239e4548a9e}, {9, Costs incurred in developing products or systems and costs incurred in acquiring software and licenses that will contribute to future period financial benefits through revenue generation and/or cost reduction are capitalised to software and systems. Costs capitalised include external direct costs of materials and services and employee costs., 5f491929-b2e4-4fad-909b-bb77e3a440b4}, {10, Assets in the course of construction include only those costs directly attributable to the development phase and are only recognised following completion of technical feasibility and where the Group has an intention and ability to use the asset., 5f92f6fc-fdca-4f15-bab6-bcecd521d07a}]|[{[\"at cost less accumulated amortisation.\"], text, span, , 1, How was internally developed software capitalised?, [7], false, , dd2a72ca-f65c-4673-9820-f7cefcb06ee4}, {[\"16,284\"], table, span, , 2, How much was the closing net book amount for software under development in 2019?, [], false, thousand, f4410a2a-6ce4-484c-ba08-0261a6c74893}, {[\"29,259\"], table, span, , 3, What was the total cost for 2019?, [], false, thousand, b3091542-8205-4661-9a7d-4d466cdf3134}, {150.18, table, arithmetic, (16,284 - 6,509) / 6,509 , 4, What was the percentage change in cost of software under development between 2018 and 2019?, [], false, percent, aa051557-3b4c-497f-b14e-2c8b8b2c99ef}]                                                                                                                                                                                                                                                                                                                                  |{[[At 30 June, , , ], [, 2019, 2018, 2017], [Movements, $'000, $'000, $'000], [Cost of Rights and licenses, 13, 104, 128], [cost of internally generated software, 12,961, 9,555, 3,400], [cost of software under development, 16,284, 6,509, 8,053], [total cost, 29,259, 16,168, 11,581]], 98c16699-d385-4631-91de-1bc3c87f9f99}|{[\"29,259\"], table, span, , 3, What was the total cost for 2019?, [], false, thousand, b3091542-8205-4661-9a7d-4d466cdf3134}                                                                                                      |\n",
            "|[{1, 11 Intangible assets (continued), 1ef0dbdd-15d0-4577-b068-dca80af4f851}, {2, (a) Intangible assets, 87193521-f886-49d3-b059-f8e7f5fc7dc1}, {3, RIGHTS AND LICENCES, 1ef948be-979b-4ac2-9593-67114ccef125}, {4, Certain licences that NEXTDC possesses have an indefinite useful life and are carried at cost less impairment losses and are subject to impairment review at least annually and whenever there is an indication that it may be impaired., 5874de4f-3b36-4659-ad37-059679ef445d}, {5, Other licences that NEXTDC acquires are carried at cost less accumulated amortisation and accumulated impairment losses. Amortisation is recognised on a straight-line basis over the estimated useful life. The estimated useful life and amortisation method are reviewed at the end of each annual reporting period., faa001e2-1bc2-446b-9c2c-9d4479013962}, {6, INTERNALLY GENERATED SOFTWARE, 82ad7605-6ce3-40a1-919f-a8c7b3ca36ab}, {7, Internally developed software is capitalised at cost less accumulated amortisation. Amortisation is calculated using the straight-line basis over the asset’s useful economic life which is generally two to three years. Their useful lives and potential impairment are reviewed at the end of each financial year., ddf26912-5783-4b3b-b351-87e91b4a5f5b}, {8, SOFTWARE UNDER DEVELOPMENT, ba5b9da5-9420-4035-ae46-6239e4548a9e}, {9, Costs incurred in developing products or systems and costs incurred in acquiring software and licenses that will contribute to future period financial benefits through revenue generation and/or cost reduction are capitalised to software and systems. Costs capitalised include external direct costs of materials and services and employee costs., 5f491929-b2e4-4fad-909b-bb77e3a440b4}, {10, Assets in the course of construction include only those costs directly attributable to the development phase and are only recognised following completion of technical feasibility and where the Group has an intention and ability to use the asset., 5f92f6fc-fdca-4f15-bab6-bcecd521d07a}]|[{[\"at cost less accumulated amortisation.\"], text, span, , 1, How was internally developed software capitalised?, [7], false, , dd2a72ca-f65c-4673-9820-f7cefcb06ee4}, {[\"16,284\"], table, span, , 2, How much was the closing net book amount for software under development in 2019?, [], false, thousand, f4410a2a-6ce4-484c-ba08-0261a6c74893}, {[\"29,259\"], table, span, , 3, What was the total cost for 2019?, [], false, thousand, b3091542-8205-4661-9a7d-4d466cdf3134}, {150.18, table, arithmetic, (16,284 - 6,509) / 6,509 , 4, What was the percentage change in cost of software under development between 2018 and 2019?, [], false, percent, aa051557-3b4c-497f-b14e-2c8b8b2c99ef}]                                                                                                                                                                                                                                                                                                                                  |{[[At 30 June, , , ], [, 2019, 2018, 2017], [Movements, $'000, $'000, $'000], [Cost of Rights and licenses, 13, 104, 128], [cost of internally generated software, 12,961, 9,555, 3,400], [cost of software under development, 16,284, 6,509, 8,053], [total cost, 29,259, 16,168, 11,581]], 98c16699-d385-4631-91de-1bc3c87f9f99}|{150.18, table, arithmetic, (16,284 - 6,509) / 6,509 , 4, What was the percentage change in cost of software under development between 2018 and 2019?, [], false, percent, aa051557-3b4c-497f-b14e-2c8b8b2c99ef}                  |\n",
            "+--------------------------------------------------------------------------------------------------------------------------------------------------------------------------------------------------------------------------------------------------------------------------------------------------------------------------------------------------------------------------------------------------------------------------------------------------------------------------------------------------------------------------------------------------------------------------------------------------------------------------------------------------------------------------------------------------------------------------------------------------------------------------------------------------------------------------------------------------------------------------------------------------------------------------------------------------------------------------------------------------------------------------------------------------------------------------------------------------------------------------------------------------------------------------------------------------------------------------------------------------------------------------------------------------------------------------------------------------------------------------------------------------------------------------------------------------------------------------------------------------------------------------------------------------------------------------------------------------------------------------------------------------------------------------------------------------------------------------------------------------------------------------------------------------------------------------------------------------------------------------------------------------------------------------------------------------------------------------------------------------------------------------------------------------------------------------------------------------+--------------------------------------------------------------------------------------------------------------------------------------------------------------------------------------------------------------------------------------------------------------------------------------------------------------------------------------------------------------------------------------------------------------------------------------------------------------------------------------------------------------------------------------------------------------------------------------------------------------------------------------------------------------------------------------------------------------------------------------------------------------------------------------------------------------------------------------------------------------------------------------------------------------------------------------------------------------------------------------------------------------------------------------+----------------------------------------------------------------------------------------------------------------------------------------------------------------------------------------------------------------------------------------------------------------------------------------------------------------------------------+----------------------------------------------------------------------------------------------------------------------------------------------------------------------------------------------------------------------------------+\n",
            "only showing top 10 rows\n",
            "\n"
          ]
        }
      ]
    },
    {
      "cell_type": "code",
      "execution_count": null,
      "metadata": {
        "id": "QXmxburI94oo"
      },
      "outputs": [],
      "source": [
        "@F.udf(StringType())\n",
        "def clean_broken_words(text, paragraphs):\n",
        "    \"\"\"\n",
        "      Cleans broken words split by ellipses ('...') in a text using reference paragraphs.\n",
        "      It removes ellipses, identifies broken words, and replaces them with complete versions from the paragraphs.\n",
        "\n",
        "      Parameters:\n",
        "      -----------\n",
        "      text : str\n",
        "          The input text with potential broken words.\n",
        "      paragraphs : list of dict\n",
        "          Reference paragraphs containing 'text' as a key for identifying complete words.\n",
        "\n",
        "      Returns:\n",
        "      --------\n",
        "      str\n",
        "          Cleaned text with broken words fixed; returns the original text if no broken words are found.\n",
        "\n",
        "      Example:\n",
        "      --------\n",
        "      Input: text = \"The answe…r lies in the para…graphs.\"\n",
        "            paragraphs = [{\"text\": \"The answer lies in the paragraphs.\"}]\n",
        "      Output: \"The answer lies in the paragraphs.\"\n",
        "\"\"\"\n",
        "\n",
        "\n",
        "     # Handle null or non-string values for 'text'\n",
        "    if text is None or not isinstance(text, str):\n",
        "        return text\n",
        "\n",
        "    # Handle null or non-list values for 'paragraphs'\n",
        "    if paragraphs is None or not isinstance(paragraphs, list):\n",
        "        return text\n",
        "\n",
        "\n",
        "    ellipsis_pattern = re.compile(r'\\b\\w*\\…\\w*\\b')\n",
        "    broken_words = ellipsis_pattern.findall(text)\n",
        "\n",
        "    if broken_words:\n",
        "        # Clean the text by removing the ellipses\n",
        "        cleaned_text = re.sub(r'\\…+', '', text)\n",
        "        question_words = cleaned_text.split()\n",
        "\n",
        "        # Split words from paragraphs\n",
        "        for para in paragraphs:\n",
        "            paragraph_words = para['text'].split()\n",
        "            for i, word in enumerate(question_words):\n",
        "                # If word was broken and is not in the paragraph, look for a match\n",
        "                if word not in paragraph_words:\n",
        "                    for para_word in paragraph_words:\n",
        "                        # If part of the word is found in the paragraph word, replace it\n",
        "                        if word in para_word:\n",
        "                            question_words[i] = para_word\n",
        "\n",
        "        # Join the cleaned words back into the sentence\n",
        "        cleaned_text = ' '.join(question_words)\n",
        "        return cleaned_text\n",
        "    return text"
      ]
    },
    {
      "cell_type": "code",
      "source": [
        "# register the user defined function\n",
        "spark.udf.register(\"clean_broken_words_udf\", clean_broken_words)"
      ],
      "metadata": {
        "id": "kuYre_7Ehf46",
        "colab": {
          "base_uri": "https://localhost:8080/"
        },
        "outputId": "518ddc45-9012-4ab7-a5fd-36b1ef253792"
      },
      "execution_count": null,
      "outputs": [
        {
          "output_type": "execute_result",
          "data": {
            "text/plain": [
              "<pyspark.sql.udf.UserDefinedFunction at 0x7bf31e013eb0>"
            ]
          },
          "metadata": {},
          "execution_count": 90
        }
      ]
    },
    {
      "cell_type": "code",
      "source": [
        "df_cleaned = questions_df.withColumn(\n",
        "    \"question\",  # Target the 'question' struct\n",
        "    F.col(\"question\").withField(  # Update the 'question' field within the struct\n",
        "        \"question\",\n",
        "        F.expr('clean_broken_words_udf(question.question,paragraphs)')\n",
        "    )\n",
        ")"
      ],
      "metadata": {
        "id": "rZFrm4vXylN8"
      },
      "execution_count": null,
      "outputs": []
    },
    {
      "cell_type": "code",
      "source": [
        "df_clean_1=df_cleaned.drop(\"questions\").withColumnRenamed(\"question\",\"questions\")"
      ],
      "metadata": {
        "id": "xidr1CGC3_dB"
      },
      "execution_count": null,
      "outputs": []
    },
    {
      "cell_type": "code",
      "source": [
        "df_clean_1.show(5,truncate=False)"
      ],
      "metadata": {
        "colab": {
          "base_uri": "https://localhost:8080/"
        },
        "id": "h8i-UstR4Zxo",
        "outputId": "1a665933-1ee6-4e23-d370-5df5fc9b8657"
      },
      "execution_count": null,
      "outputs": [
        {
          "output_type": "stream",
          "name": "stdout",
          "text": [
            "+-------------------------------------------------------------------------------------------------------------------------------------------------------------------------------------------------------------------------------------------------------------------------------------------------------------------------------------------------------------------------------------------------------------------------------------------------------------------------------------------------------------------------------------------------------------------------------------------------------------------------------------------------------------------------+-----------------------------------------------------------------------------------------------------------------------------------------------------------------------------------------------------------------------------------------------------+-------------------------------------------------------------------------------------------------------------------------------------------------------------------------------------------------------------------+\n",
            "|paragraphs                                                                                                                                                                                                                                                                                                                                                                                                                                                                                                                                                                                                                                                               |table                                                                                                                                                                                                                                                |questions                                                                                                                                                                                                          |\n",
            "+-------------------------------------------------------------------------------------------------------------------------------------------------------------------------------------------------------------------------------------------------------------------------------------------------------------------------------------------------------------------------------------------------------------------------------------------------------------------------------------------------------------------------------------------------------------------------------------------------------------------------------------------------------------------------+-----------------------------------------------------------------------------------------------------------------------------------------------------------------------------------------------------------------------------------------------------+-------------------------------------------------------------------------------------------------------------------------------------------------------------------------------------------------------------------+\n",
            "|[{1, Actuarial assumptions, 62be4f5a-1693-4e6b-8bb4-0a4e1e40b409}, {2, The Group’s scheme liabilities are measured using the projected unit credit method using the principal actuarial assumptions set out below:, c63e6ed5-8fe5-46e4-a02a-f923e90e8067}, {3, Notes: 1 Figures shown represent a weighted average assumption of the individual schemes.Weighted average actuarial assumptions are rate of inflation, rate of increase in salaries and discount rate., b4093fd4-43ea-4b31-9975-13c0012a0b18}, {4, 2 The rate of increases in pensions in payment and deferred revaluation are dependent on the rate of inflation., 9f6ecb32-9e2c-4036-8209-8905855145c0}]|{[[Weighted average actuarial assumptions used at 31 March1:, , , ], [, 2019, 2018, 2017], [Rate of inflation2, 2.9, 2.9, 3.0], [Rate of increase in salaries, 2.7, 2.7, 2.6], [Discount rate, 2.3, 2.5, 2.6]], e78f8b29-6085-43de-b32f-be1a68641be3}|{[\"Rate of inflation\",\"Rate of increase in salaries\",\"Discount rate\"], table, multi-span, , 1, What does the Weighted average actuarial assumptions consist of?, [], false, , 9c569bea-e036-4c27-8e41-82c6efab1d31}|\n",
            "|[{1, Actuarial assumptions, 62be4f5a-1693-4e6b-8bb4-0a4e1e40b409}, {2, The Group’s scheme liabilities are measured using the projected unit credit method using the principal actuarial assumptions set out below:, c63e6ed5-8fe5-46e4-a02a-f923e90e8067}, {3, Notes: 1 Figures shown represent a weighted average assumption of the individual schemes.Weighted average actuarial assumptions are rate of inflation, rate of increase in salaries and discount rate., b4093fd4-43ea-4b31-9975-13c0012a0b18}, {4, 2 The rate of increases in pensions in payment and deferred revaluation are dependent on the rate of inflation., 9f6ecb32-9e2c-4036-8209-8905855145c0}]|{[[Weighted average actuarial assumptions used at 31 March1:, , , ], [, 2019, 2018, 2017], [Rate of inflation2, 2.9, 2.9, 3.0], [Rate of increase in salaries, 2.7, 2.7, 2.6], [Discount rate, 2.3, 2.5, 2.6]], e78f8b29-6085-43de-b32f-be1a68641be3}|{[\"2.9\"], table, span, , 2, How much is the 2019 rate of inflation?, [], false, percent, 83dcc128-9777-4ae2-ba55-50162ac43257}                                                                                     |\n",
            "|[{1, Actuarial assumptions, 62be4f5a-1693-4e6b-8bb4-0a4e1e40b409}, {2, The Group’s scheme liabilities are measured using the projected unit credit method using the principal actuarial assumptions set out below:, c63e6ed5-8fe5-46e4-a02a-f923e90e8067}, {3, Notes: 1 Figures shown represent a weighted average assumption of the individual schemes.Weighted average actuarial assumptions are rate of inflation, rate of increase in salaries and discount rate., b4093fd4-43ea-4b31-9975-13c0012a0b18}, {4, 2 The rate of increases in pensions in payment and deferred revaluation are dependent on the rate of inflation., 9f6ecb32-9e2c-4036-8209-8905855145c0}]|{[[Weighted average actuarial assumptions used at 31 March1:, , , ], [, 2019, 2018, 2017], [Rate of inflation2, 2.9, 2.9, 3.0], [Rate of increase in salaries, 2.7, 2.7, 2.6], [Discount rate, 2.3, 2.5, 2.6]], e78f8b29-6085-43de-b32f-be1a68641be3}|{[\"2.9\"], table, span, , 3, How much is the 2018 rate of inflation?, [], false, percent, 0384152d-1f9f-4b12-85a9-2ca5e1c97682}                                                                                     |\n",
            "|[{1, Actuarial assumptions, 62be4f5a-1693-4e6b-8bb4-0a4e1e40b409}, {2, The Group’s scheme liabilities are measured using the projected unit credit method using the principal actuarial assumptions set out below:, c63e6ed5-8fe5-46e4-a02a-f923e90e8067}, {3, Notes: 1 Figures shown represent a weighted average assumption of the individual schemes.Weighted average actuarial assumptions are rate of inflation, rate of increase in salaries and discount rate., b4093fd4-43ea-4b31-9975-13c0012a0b18}, {4, 2 The rate of increases in pensions in payment and deferred revaluation are dependent on the rate of inflation., 9f6ecb32-9e2c-4036-8209-8905855145c0}]|{[[Weighted average actuarial assumptions used at 31 March1:, , , ], [, 2019, 2018, 2017], [Rate of inflation2, 2.9, 2.9, 3.0], [Rate of increase in salaries, 2.7, 2.7, 2.6], [Discount rate, 2.3, 2.5, 2.6]], e78f8b29-6085-43de-b32f-be1a68641be3}|{2.9, table, arithmetic, (2.9+2.9)/2, 4, What is the 2019 average rate of inflation?, [], false, percent, dbee8930-0110-41c7-95fe-0178ddf4f841}                                                                    |\n",
            "|[{1, Actuarial assumptions, 62be4f5a-1693-4e6b-8bb4-0a4e1e40b409}, {2, The Group’s scheme liabilities are measured using the projected unit credit method using the principal actuarial assumptions set out below:, c63e6ed5-8fe5-46e4-a02a-f923e90e8067}, {3, Notes: 1 Figures shown represent a weighted average assumption of the individual schemes.Weighted average actuarial assumptions are rate of inflation, rate of increase in salaries and discount rate., b4093fd4-43ea-4b31-9975-13c0012a0b18}, {4, 2 The rate of increases in pensions in payment and deferred revaluation are dependent on the rate of inflation., 9f6ecb32-9e2c-4036-8209-8905855145c0}]|{[[Weighted average actuarial assumptions used at 31 March1:, , , ], [, 2019, 2018, 2017], [Rate of inflation2, 2.9, 2.9, 3.0], [Rate of increase in salaries, 2.7, 2.7, 2.6], [Discount rate, 2.3, 2.5, 2.6]], e78f8b29-6085-43de-b32f-be1a68641be3}|{2.7, table, arithmetic, (2.7+2.7)/2, 5, What is the 2019 average rate of increase in salaries?, [], false, percent, 1665b441-93e5-481d-b0b4-2d28ce70e1a8}                                                         |\n",
            "+-------------------------------------------------------------------------------------------------------------------------------------------------------------------------------------------------------------------------------------------------------------------------------------------------------------------------------------------------------------------------------------------------------------------------------------------------------------------------------------------------------------------------------------------------------------------------------------------------------------------------------------------------------------------------+-----------------------------------------------------------------------------------------------------------------------------------------------------------------------------------------------------------------------------------------------------+-------------------------------------------------------------------------------------------------------------------------------------------------------------------------------------------------------------------+\n",
            "only showing top 5 rows\n",
            "\n"
          ]
        }
      ]
    },
    {
      "cell_type": "code",
      "source": [
        "df_clean_1.printSchema()"
      ],
      "metadata": {
        "colab": {
          "base_uri": "https://localhost:8080/"
        },
        "id": "dx2zsROk3NQz",
        "outputId": "f9388e38-0bbb-40bc-fbcc-4724258fc7b9"
      },
      "execution_count": null,
      "outputs": [
        {
          "output_type": "stream",
          "name": "stdout",
          "text": [
            "root\n",
            " |-- paragraphs: array (nullable = true)\n",
            " |    |-- element: struct (containsNull = true)\n",
            " |    |    |-- order: long (nullable = true)\n",
            " |    |    |-- text: string (nullable = true)\n",
            " |    |    |-- uid: string (nullable = true)\n",
            " |-- table: struct (nullable = true)\n",
            " |    |-- table: array (nullable = true)\n",
            " |    |    |-- element: array (containsNull = true)\n",
            " |    |    |    |-- element: string (containsNull = true)\n",
            " |    |-- uid: string (nullable = true)\n",
            " |-- questions: struct (nullable = true)\n",
            " |    |-- answer: string (nullable = true)\n",
            " |    |-- answer_from: string (nullable = true)\n",
            " |    |-- answer_type: string (nullable = true)\n",
            " |    |-- derivation: string (nullable = true)\n",
            " |    |-- order: long (nullable = true)\n",
            " |    |-- question: string (nullable = true)\n",
            " |    |-- rel_paragraphs: array (nullable = true)\n",
            " |    |    |-- element: string (containsNull = true)\n",
            " |    |-- req_comparison: boolean (nullable = true)\n",
            " |    |-- scale: string (nullable = true)\n",
            " |    |-- uid: string (nullable = true)\n",
            "\n"
          ]
        }
      ]
    },
    {
      "cell_type": "code",
      "source": [
        "# Assuming original_schema has the correct schema for the 'questions' field (array of structs)\n",
        "questions_schema = [field for field in original_schema.fields if field.name == \"questions\"][0].dataType.elementType\n",
        "\n",
        "df_final_structured = df_clean_1.withColumn(\n",
        "    \"questions\",\n",
        "    F.array(F.struct(*[F.col(\"questions.\" + f.name).cast(f.dataType).alias(f.name) for f in questions_schema.fields]))\n",
        ").select(*[F.col(field.name).cast(field.dataType) for field in original_schema.fields])\n",
        "\n"
      ],
      "metadata": {
        "id": "k-SxH1kByq6V"
      },
      "execution_count": null,
      "outputs": []
    },
    {
      "cell_type": "code",
      "source": [
        "json_data = df_final_structured.select(F.to_json(F.struct(*df_final_structured.columns)).alias(\"json\")).agg(F.collect_list(\"json\")).first()[0]\n",
        "\n",
        "# Write the single JSON string to a file\n",
        "with open(\"cleaned_train_data.json\", \"w\") as f:\n",
        "    f.write(\"[\" + \",\".join(json_data) + \"]\")\n"
      ],
      "metadata": {
        "id": "BQ1hFXBf-F-0"
      },
      "execution_count": null,
      "outputs": []
    },
    {
      "cell_type": "code",
      "source": [
        "# load cleaned json file here\n",
        "cleaned_data = spark.read.option(\"multiline\", \"true\").option(\"mode\", \"PERMISSIVE\").json(\"cleaned_train_data.json\")"
      ],
      "metadata": {
        "id": "p6A7cy76Uv7M"
      },
      "execution_count": null,
      "outputs": []
    },
    {
      "cell_type": "code",
      "source": [
        "# check for the size of the json file\n",
        "cleaned_data.count()"
      ],
      "metadata": {
        "colab": {
          "base_uri": "https://localhost:8080/"
        },
        "id": "N-e7VRHOr4wL",
        "outputId": "6e7ce569-00a5-480e-c7fc-b4f09d03fb17"
      },
      "execution_count": null,
      "outputs": [
        {
          "output_type": "execute_result",
          "data": {
            "text/plain": [
              "13213"
            ]
          },
          "metadata": {},
          "execution_count": 98
        }
      ]
    },
    {
      "cell_type": "code",
      "source": [
        "cleaned_data.printSchema()"
      ],
      "metadata": {
        "colab": {
          "base_uri": "https://localhost:8080/"
        },
        "id": "mnYdiV4MWjPN",
        "outputId": "2439242c-85d4-4592-8979-5b3c51addd0e"
      },
      "execution_count": null,
      "outputs": [
        {
          "output_type": "stream",
          "name": "stdout",
          "text": [
            "root\n",
            " |-- paragraphs: array (nullable = true)\n",
            " |    |-- element: struct (containsNull = true)\n",
            " |    |    |-- order: long (nullable = true)\n",
            " |    |    |-- text: string (nullable = true)\n",
            " |    |    |-- uid: string (nullable = true)\n",
            " |-- questions: array (nullable = true)\n",
            " |    |-- element: struct (containsNull = true)\n",
            " |    |    |-- answer: string (nullable = true)\n",
            " |    |    |-- answer_from: string (nullable = true)\n",
            " |    |    |-- answer_type: string (nullable = true)\n",
            " |    |    |-- derivation: string (nullable = true)\n",
            " |    |    |-- order: long (nullable = true)\n",
            " |    |    |-- question: string (nullable = true)\n",
            " |    |    |-- rel_paragraphs: array (nullable = true)\n",
            " |    |    |    |-- element: string (containsNull = true)\n",
            " |    |    |-- req_comparison: boolean (nullable = true)\n",
            " |    |    |-- scale: string (nullable = true)\n",
            " |    |    |-- uid: string (nullable = true)\n",
            " |-- table: struct (nullable = true)\n",
            " |    |-- table: array (nullable = true)\n",
            " |    |    |-- element: array (containsNull = true)\n",
            " |    |    |    |-- element: string (containsNull = true)\n",
            " |    |-- uid: string (nullable = true)\n",
            "\n"
          ]
        }
      ]
    },
    {
      "cell_type": "code",
      "source": [
        "@F.udf(StringType())\n",
        "def remove_space(text_in):\n",
        "    '''Remove extra spaces from the input text.'''\n",
        "    return \" \".join(text_in.split())  # Simplified to remove extra spaces\n",
        "\n",
        "spark.udf.register(\"remove_space_udf\", remove_space)\n",
        "\n",
        "@F.udf(StringType())\n",
        "def table_row_to_text(header, rows):\n",
        "    '''\n",
        "    Convert a table row to text using the provided header.\n",
        "    Constructs descriptive sentences from header and row values.\n",
        "    '''\n",
        "    res = \"\"\n",
        "\n",
        "    for row in rows:\n",
        "        # Create a dictionary from row values assuming header as the keys\n",
        "        row_dict = dict(zip(header, row))\n",
        "\n",
        "        # Construct sentences from row dictionary\n",
        "        for head, cell in row_dict.items():\n",
        "            if cell:\n",
        "                res += f\"the {head} of {row_dict[header[0]]} is {cell} ; \"\n",
        "\n",
        "    res = F.expr(\"remove_space_udf(res)\")\n",
        "    return res.strip()\n",
        "\n"
      ],
      "metadata": {
        "id": "qkPP26kFTF_Y"
      },
      "execution_count": null,
      "outputs": []
    },
    {
      "cell_type": "code",
      "source": [
        "# register the user defined function\n",
        "spark.udf.register(\"table_row_to_text_udf\", table_row_to_text)"
      ],
      "metadata": {
        "id": "nqzRL6FQdsjN",
        "colab": {
          "base_uri": "https://localhost:8080/"
        },
        "outputId": "736a0cf0-7f32-44a8-bd0d-f558c91eed20"
      },
      "execution_count": null,
      "outputs": [
        {
          "output_type": "execute_result",
          "data": {
            "text/plain": [
              "<pyspark.sql.udf.UserDefinedFunction at 0x7bf33dfe3910>"
            ]
          },
          "metadata": {},
          "execution_count": 101
        }
      ]
    },
    {
      "cell_type": "code",
      "source": [
        "cleaned_data.show(5,truncate=False)"
      ],
      "metadata": {
        "colab": {
          "base_uri": "https://localhost:8080/"
        },
        "id": "YZYwda3GbKRb",
        "outputId": "924989db-25e3-47ca-d08f-444c4d8fec7a"
      },
      "execution_count": null,
      "outputs": [
        {
          "output_type": "stream",
          "name": "stdout",
          "text": [
            "+-------------------------------------------------------------------------------------------------------------------------------------------------------------------------------------------------------------------------------------------------------------------------------------------------------------------------------------------------------------------------------------------------------------------------------------------------------------------------------------------------------------------------------------------------------------------------------------------------------------------------------------------------------------------------+---------------------------------------------------------------------------------------------------------------------------------------------------------------------------------------------------------------------+-----------------------------------------------------------------------------------------------------------------------------------------------------------------------------------------------------------------------------------------------------+\n",
            "|paragraphs                                                                                                                                                                                                                                                                                                                                                                                                                                                                                                                                                                                                                                                               |questions                                                                                                                                                                                                            |table                                                                                                                                                                                                                                                |\n",
            "+-------------------------------------------------------------------------------------------------------------------------------------------------------------------------------------------------------------------------------------------------------------------------------------------------------------------------------------------------------------------------------------------------------------------------------------------------------------------------------------------------------------------------------------------------------------------------------------------------------------------------------------------------------------------------+---------------------------------------------------------------------------------------------------------------------------------------------------------------------------------------------------------------------+-----------------------------------------------------------------------------------------------------------------------------------------------------------------------------------------------------------------------------------------------------+\n",
            "|[{1, Actuarial assumptions, 62be4f5a-1693-4e6b-8bb4-0a4e1e40b409}, {2, The Group’s scheme liabilities are measured using the projected unit credit method using the principal actuarial assumptions set out below:, c63e6ed5-8fe5-46e4-a02a-f923e90e8067}, {3, Notes: 1 Figures shown represent a weighted average assumption of the individual schemes.Weighted average actuarial assumptions are rate of inflation, rate of increase in salaries and discount rate., b4093fd4-43ea-4b31-9975-13c0012a0b18}, {4, 2 The rate of increases in pensions in payment and deferred revaluation are dependent on the rate of inflation., 9f6ecb32-9e2c-4036-8209-8905855145c0}]|[{[\"Rate of inflation\",\"Rate of increase in salaries\",\"Discount rate\"], table, multi-span, , 1, What does the Weighted average actuarial assumptions consist of?, [], false, , 9c569bea-e036-4c27-8e41-82c6efab1d31}]|{[[Weighted average actuarial assumptions used at 31 March1:, , , ], [, 2019, 2018, 2017], [Rate of inflation2, 2.9, 2.9, 3.0], [Rate of increase in salaries, 2.7, 2.7, 2.6], [Discount rate, 2.3, 2.5, 2.6]], e78f8b29-6085-43de-b32f-be1a68641be3}|\n",
            "|[{1, Actuarial assumptions, 62be4f5a-1693-4e6b-8bb4-0a4e1e40b409}, {2, The Group’s scheme liabilities are measured using the projected unit credit method using the principal actuarial assumptions set out below:, c63e6ed5-8fe5-46e4-a02a-f923e90e8067}, {3, Notes: 1 Figures shown represent a weighted average assumption of the individual schemes.Weighted average actuarial assumptions are rate of inflation, rate of increase in salaries and discount rate., b4093fd4-43ea-4b31-9975-13c0012a0b18}, {4, 2 The rate of increases in pensions in payment and deferred revaluation are dependent on the rate of inflation., 9f6ecb32-9e2c-4036-8209-8905855145c0}]|[{[\"2.9\"], table, span, , 2, How much is the 2019 rate of inflation?, [], false, percent, 83dcc128-9777-4ae2-ba55-50162ac43257}]                                                                                     |{[[Weighted average actuarial assumptions used at 31 March1:, , , ], [, 2019, 2018, 2017], [Rate of inflation2, 2.9, 2.9, 3.0], [Rate of increase in salaries, 2.7, 2.7, 2.6], [Discount rate, 2.3, 2.5, 2.6]], e78f8b29-6085-43de-b32f-be1a68641be3}|\n",
            "|[{1, Actuarial assumptions, 62be4f5a-1693-4e6b-8bb4-0a4e1e40b409}, {2, The Group’s scheme liabilities are measured using the projected unit credit method using the principal actuarial assumptions set out below:, c63e6ed5-8fe5-46e4-a02a-f923e90e8067}, {3, Notes: 1 Figures shown represent a weighted average assumption of the individual schemes.Weighted average actuarial assumptions are rate of inflation, rate of increase in salaries and discount rate., b4093fd4-43ea-4b31-9975-13c0012a0b18}, {4, 2 The rate of increases in pensions in payment and deferred revaluation are dependent on the rate of inflation., 9f6ecb32-9e2c-4036-8209-8905855145c0}]|[{[\"2.9\"], table, span, , 3, How much is the 2018 rate of inflation?, [], false, percent, 0384152d-1f9f-4b12-85a9-2ca5e1c97682}]                                                                                     |{[[Weighted average actuarial assumptions used at 31 March1:, , , ], [, 2019, 2018, 2017], [Rate of inflation2, 2.9, 2.9, 3.0], [Rate of increase in salaries, 2.7, 2.7, 2.6], [Discount rate, 2.3, 2.5, 2.6]], e78f8b29-6085-43de-b32f-be1a68641be3}|\n",
            "|[{1, Actuarial assumptions, 62be4f5a-1693-4e6b-8bb4-0a4e1e40b409}, {2, The Group’s scheme liabilities are measured using the projected unit credit method using the principal actuarial assumptions set out below:, c63e6ed5-8fe5-46e4-a02a-f923e90e8067}, {3, Notes: 1 Figures shown represent a weighted average assumption of the individual schemes.Weighted average actuarial assumptions are rate of inflation, rate of increase in salaries and discount rate., b4093fd4-43ea-4b31-9975-13c0012a0b18}, {4, 2 The rate of increases in pensions in payment and deferred revaluation are dependent on the rate of inflation., 9f6ecb32-9e2c-4036-8209-8905855145c0}]|[{2.9, table, arithmetic, (2.9+2.9)/2, 4, What is the 2019 average rate of inflation?, [], false, percent, dbee8930-0110-41c7-95fe-0178ddf4f841}]                                                                    |{[[Weighted average actuarial assumptions used at 31 March1:, , , ], [, 2019, 2018, 2017], [Rate of inflation2, 2.9, 2.9, 3.0], [Rate of increase in salaries, 2.7, 2.7, 2.6], [Discount rate, 2.3, 2.5, 2.6]], e78f8b29-6085-43de-b32f-be1a68641be3}|\n",
            "|[{1, Actuarial assumptions, 62be4f5a-1693-4e6b-8bb4-0a4e1e40b409}, {2, The Group’s scheme liabilities are measured using the projected unit credit method using the principal actuarial assumptions set out below:, c63e6ed5-8fe5-46e4-a02a-f923e90e8067}, {3, Notes: 1 Figures shown represent a weighted average assumption of the individual schemes.Weighted average actuarial assumptions are rate of inflation, rate of increase in salaries and discount rate., b4093fd4-43ea-4b31-9975-13c0012a0b18}, {4, 2 The rate of increases in pensions in payment and deferred revaluation are dependent on the rate of inflation., 9f6ecb32-9e2c-4036-8209-8905855145c0}]|[{2.7, table, arithmetic, (2.7+2.7)/2, 5, What is the 2019 average rate of increase in salaries?, [], false, percent, 1665b441-93e5-481d-b0b4-2d28ce70e1a8}]                                                         |{[[Weighted average actuarial assumptions used at 31 March1:, , , ], [, 2019, 2018, 2017], [Rate of inflation2, 2.9, 2.9, 3.0], [Rate of increase in salaries, 2.7, 2.7, 2.6], [Discount rate, 2.3, 2.5, 2.6]], e78f8b29-6085-43de-b32f-be1a68641be3}|\n",
            "+-------------------------------------------------------------------------------------------------------------------------------------------------------------------------------------------------------------------------------------------------------------------------------------------------------------------------------------------------------------------------------------------------------------------------------------------------------------------------------------------------------------------------------------------------------------------------------------------------------------------------------------------------------------------------+---------------------------------------------------------------------------------------------------------------------------------------------------------------------------------------------------------------------+-----------------------------------------------------------------------------------------------------------------------------------------------------------------------------------------------------------------------------------------------------+\n",
            "only showing top 5 rows\n",
            "\n"
          ]
        }
      ]
    },
    {
      "cell_type": "code",
      "source": [
        "# function to process each of the question\n",
        "@F.udf(ArrayType(StructType([\n",
        "    StructField(\"context\", StringType(), True),\n",
        "    StructField(\"question\", StringType(), True),\n",
        "    StructField(\"answer\", StringType(), True),\n",
        "])))\n",
        "def process_questions(questions, context):\n",
        "    result = []\n",
        "    if questions:\n",
        "        for item in questions:\n",
        "            question_text = item.question if item and hasattr(item, 'question') else \"\"\n",
        "            answer_list = item.answer if item and hasattr(item, 'answer') else []\n",
        "\n",
        "            # handle answers as list or other formats\n",
        "            if isinstance(answer_list, list):\n",
        "                answers = \" | \".join(answer_list)\n",
        "            else:\n",
        "                answers = answer_list  # handle cases where it's already a string\n",
        "\n",
        "            result.append({\n",
        "                'context': context,\n",
        "                'question': question_text,\n",
        "                'answer': answers\n",
        "            })\n",
        "\n",
        "    return result\n"
      ],
      "metadata": {
        "id": "SWJuvFljj01D"
      },
      "execution_count": null,
      "outputs": []
    },
    {
      "cell_type": "code",
      "source": [
        "@F.udf(StringType())\n",
        "def process_table(table):\n",
        "    res = \"\"\n",
        "    if table and isinstance(table, list):\n",
        "        table_data = table\n",
        "        if len(table_data) > 1:  # check if there's at least a header and one row\n",
        "            header = table_data[1]  # get the header (first row)\n",
        "            rows = table_data[2:]  # get rows (from second row onwards)\n",
        "\n",
        "            for row in rows:\n",
        "                # create a dictionary from row values assuming header as the keys\n",
        "                row_dict = dict(zip(header, row))\n",
        "                row_header = row_dict.get(header[0], \"\")  # first column as the identifier\n",
        "                for head, cell in row_dict.items():\n",
        "                    if head != header[0] and cell:  # skip the first header to avoid repetition\n",
        "                        res += f\"the {head} of {row_header} is {cell} ; \"\n",
        "\n",
        "            return res.strip()\n",
        "\n",
        "    return \"\"\n",
        "\n"
      ],
      "metadata": {
        "id": "05sIbygUXEy0"
      },
      "execution_count": null,
      "outputs": []
    },
    {
      "cell_type": "code",
      "source": [
        "# register user defined functions\n",
        "spark.udf.register(\"process_table_udf\", process_table)\n",
        "spark.udf.register(\"process_questions_udf\", process_questions)"
      ],
      "metadata": {
        "colab": {
          "base_uri": "https://localhost:8080/"
        },
        "id": "sFu5bc9R-zHC",
        "outputId": "3032f3b6-2714-4b79-a7f0-a2486bd77410"
      },
      "execution_count": null,
      "outputs": [
        {
          "output_type": "execute_result",
          "data": {
            "text/plain": [
              "<pyspark.sql.udf.UserDefinedFunction at 0x7bf31e010250>"
            ]
          },
          "metadata": {},
          "execution_count": 105
        }
      ]
    },
    {
      "cell_type": "code",
      "source": [
        "cleaned_data_1 = cleaned_data.withColumn(\n",
        "    \"context_paragraphs\",\n",
        "    F.expr(\"concat_ws(' ', transform(paragraphs, x -> x.text))\")\n",
        ")"
      ],
      "metadata": {
        "id": "Eg_28VyD1XdV"
      },
      "execution_count": null,
      "outputs": []
    },
    {
      "cell_type": "code",
      "source": [
        "# cleaned_data_1.show(5,truncate=False)"
      ],
      "metadata": {
        "id": "Yc-nKDDls-QI"
      },
      "execution_count": null,
      "outputs": []
    },
    {
      "cell_type": "code",
      "source": [
        "cleaned_data_1 = cleaned_data_1.withColumn(\n",
        "    \"table_data\",F.col(\"table.table\")\n",
        ")"
      ],
      "metadata": {
        "id": "yPAe0-O1hT_n"
      },
      "execution_count": null,
      "outputs": []
    },
    {
      "cell_type": "code",
      "source": [
        "cleaned_data_1 = cleaned_data_1.withColumn(\n",
        "    \"context_table\",\n",
        "    F.expr(\"process_table_udf(table_data)\")\n",
        ")"
      ],
      "metadata": {
        "id": "WJpFZUCHj9sL"
      },
      "execution_count": null,
      "outputs": []
    },
    {
      "cell_type": "code",
      "source": [
        "# cleaned_data_1.show(truncate=False)"
      ],
      "metadata": {
        "id": "RetUQx3b1vNQ"
      },
      "execution_count": null,
      "outputs": []
    },
    {
      "cell_type": "code",
      "source": [
        "cleaned_data_1 = cleaned_data_1.withColumn(\n",
        "    \"context\",\n",
        "    F.concat_ws(\" \", F.col(\"context_paragraphs\"), F.col(\"context_table\"))\n",
        ")"
      ],
      "metadata": {
        "id": "CIuozilVx1G0"
      },
      "execution_count": null,
      "outputs": []
    },
    {
      "cell_type": "code",
      "source": [
        "# Process questions and combine with context\n",
        "cleaned_data_1 = cleaned_data_1.withColumn(\"data\", F.expr('process_questions_udf(questions,context)'))"
      ],
      "metadata": {
        "id": "SlnS5Yz6mLb-"
      },
      "execution_count": null,
      "outputs": []
    },
    {
      "cell_type": "code",
      "source": [
        "# cleaned_data_1.show(5,truncate=False)"
      ],
      "metadata": {
        "id": "uNpfYErvkInQ"
      },
      "execution_count": null,
      "outputs": []
    },
    {
      "cell_type": "code",
      "source": [
        "# Exploding the resulting array to flatten it\n",
        "df_exploded = cleaned_data_1.select(F.explode(F.col(\"data\")).alias(\"entry\"))\n",
        "\n",
        "# Extract context, question, and answer from the exploded data\n",
        "final_df = df_exploded.select(\n",
        "    F.col(\"entry.context\").alias(\"context\"),\n",
        "    F.col(\"entry.question\").alias(\"question\"),\n",
        "    F.col(\"entry.answer\").alias(\"answer\")\n",
        ")"
      ],
      "metadata": {
        "id": "h_cZ3990mi4l"
      },
      "execution_count": null,
      "outputs": []
    },
    {
      "cell_type": "code",
      "source": [
        "# Show the result\n",
        "final_df.show(5,truncate=False)"
      ],
      "metadata": {
        "id": "0fZFq08efYKX",
        "colab": {
          "base_uri": "https://localhost:8080/"
        },
        "outputId": "218812ef-ceb4-441e-d232-5c76b209cf0d"
      },
      "execution_count": null,
      "outputs": [
        {
          "output_type": "stream",
          "name": "stdout",
          "text": [
            "+-------------------------------------------------------------------------------------------------------------------------------------------------------------------------------------------------------------------------------------------------------------------------------------------------------------------------------------------------------------------------------------------------------------------------------------------------------------------------------------------------------------------------------------------------------------------------------------------------------------------------------------------------------------------------------------------------------------------------------------------------------------------------------------------------------------------------------------------------------------------------------+----------------------------------------------------------------+--------------------------------------------------------------------+\n",
            "|context                                                                                                                                                                                                                                                                                                                                                                                                                                                                                                                                                                                                                                                                                                                                                                                                                                                                        |question                                                        |answer                                                              |\n",
            "+-------------------------------------------------------------------------------------------------------------------------------------------------------------------------------------------------------------------------------------------------------------------------------------------------------------------------------------------------------------------------------------------------------------------------------------------------------------------------------------------------------------------------------------------------------------------------------------------------------------------------------------------------------------------------------------------------------------------------------------------------------------------------------------------------------------------------------------------------------------------------------+----------------------------------------------------------------+--------------------------------------------------------------------+\n",
            "|Actuarial assumptions The Group’s scheme liabilities are measured using the projected unit credit method using the principal actuarial assumptions set out below: Notes: 1 Figures shown represent a weighted average assumption of the individual schemes.Weighted average actuarial assumptions are rate of inflation, rate of increase in salaries and discount rate. 2 The rate of increases in pensions in payment and deferred revaluation are dependent on the rate of inflation. the 2019 of Rate of inflation2 is 2.9 ; the 2018 of Rate of inflation2 is 2.9 ; the 2017 of Rate of inflation2 is 3.0 ; the 2019 of Rate of increase in salaries is 2.7 ; the 2018 of Rate of increase in salaries is 2.7 ; the 2017 of Rate of increase in salaries is 2.6 ; the 2019 of Discount rate is 2.3 ; the 2018 of Discount rate is 2.5 ; the 2017 of Discount rate is 2.6 ;|What does the Weighted average actuarial assumptions consist of?|[\"Rate of inflation\",\"Rate of increase in salaries\",\"Discount rate\"]|\n",
            "|Actuarial assumptions The Group’s scheme liabilities are measured using the projected unit credit method using the principal actuarial assumptions set out below: Notes: 1 Figures shown represent a weighted average assumption of the individual schemes.Weighted average actuarial assumptions are rate of inflation, rate of increase in salaries and discount rate. 2 The rate of increases in pensions in payment and deferred revaluation are dependent on the rate of inflation. the 2019 of Rate of inflation2 is 2.9 ; the 2018 of Rate of inflation2 is 2.9 ; the 2017 of Rate of inflation2 is 3.0 ; the 2019 of Rate of increase in salaries is 2.7 ; the 2018 of Rate of increase in salaries is 2.7 ; the 2017 of Rate of increase in salaries is 2.6 ; the 2019 of Discount rate is 2.3 ; the 2018 of Discount rate is 2.5 ; the 2017 of Discount rate is 2.6 ;|How much is the 2019 rate of inflation?                         |[\"2.9\"]                                                             |\n",
            "|Actuarial assumptions The Group’s scheme liabilities are measured using the projected unit credit method using the principal actuarial assumptions set out below: Notes: 1 Figures shown represent a weighted average assumption of the individual schemes.Weighted average actuarial assumptions are rate of inflation, rate of increase in salaries and discount rate. 2 The rate of increases in pensions in payment and deferred revaluation are dependent on the rate of inflation. the 2019 of Rate of inflation2 is 2.9 ; the 2018 of Rate of inflation2 is 2.9 ; the 2017 of Rate of inflation2 is 3.0 ; the 2019 of Rate of increase in salaries is 2.7 ; the 2018 of Rate of increase in salaries is 2.7 ; the 2017 of Rate of increase in salaries is 2.6 ; the 2019 of Discount rate is 2.3 ; the 2018 of Discount rate is 2.5 ; the 2017 of Discount rate is 2.6 ;|How much is the 2018 rate of inflation?                         |[\"2.9\"]                                                             |\n",
            "|Actuarial assumptions The Group’s scheme liabilities are measured using the projected unit credit method using the principal actuarial assumptions set out below: Notes: 1 Figures shown represent a weighted average assumption of the individual schemes.Weighted average actuarial assumptions are rate of inflation, rate of increase in salaries and discount rate. 2 The rate of increases in pensions in payment and deferred revaluation are dependent on the rate of inflation. the 2019 of Rate of inflation2 is 2.9 ; the 2018 of Rate of inflation2 is 2.9 ; the 2017 of Rate of inflation2 is 3.0 ; the 2019 of Rate of increase in salaries is 2.7 ; the 2018 of Rate of increase in salaries is 2.7 ; the 2017 of Rate of increase in salaries is 2.6 ; the 2019 of Discount rate is 2.3 ; the 2018 of Discount rate is 2.5 ; the 2017 of Discount rate is 2.6 ;|What is the 2019 average rate of inflation?                     |2.9                                                                 |\n",
            "|Actuarial assumptions The Group’s scheme liabilities are measured using the projected unit credit method using the principal actuarial assumptions set out below: Notes: 1 Figures shown represent a weighted average assumption of the individual schemes.Weighted average actuarial assumptions are rate of inflation, rate of increase in salaries and discount rate. 2 The rate of increases in pensions in payment and deferred revaluation are dependent on the rate of inflation. the 2019 of Rate of inflation2 is 2.9 ; the 2018 of Rate of inflation2 is 2.9 ; the 2017 of Rate of inflation2 is 3.0 ; the 2019 of Rate of increase in salaries is 2.7 ; the 2018 of Rate of increase in salaries is 2.7 ; the 2017 of Rate of increase in salaries is 2.6 ; the 2019 of Discount rate is 2.3 ; the 2018 of Discount rate is 2.5 ; the 2017 of Discount rate is 2.6 ;|What is the 2019 average rate of increase in salaries?          |2.7                                                                 |\n",
            "+-------------------------------------------------------------------------------------------------------------------------------------------------------------------------------------------------------------------------------------------------------------------------------------------------------------------------------------------------------------------------------------------------------------------------------------------------------------------------------------------------------------------------------------------------------------------------------------------------------------------------------------------------------------------------------------------------------------------------------------------------------------------------------------------------------------------------------------------------------------------------------+----------------------------------------------------------------+--------------------------------------------------------------------+\n",
            "only showing top 5 rows\n",
            "\n"
          ]
        }
      ]
    },
    {
      "cell_type": "code",
      "source": [
        "data = final_df.select(\"context\", \"question\", \"answer\").toPandas().to_dict(orient=\"records\")\n",
        "\n",
        "# Define the output path for the JSON file\n",
        "output_path = \"/content/drive/MyDrive/FinQA/clean.json\"\n",
        "\n",
        "# Write the JSON data to the file\n",
        "with open(output_path, \"w\") as json_file:\n",
        "    json.dump(data, json_file, indent=4)"
      ],
      "metadata": {
        "id": "Tif4xfKhVq8-"
      },
      "execution_count": null,
      "outputs": []
    }
  ],
  "metadata": {
    "colab": {
      "provenance": []
    },
    "kernelspec": {
      "display_name": "Python 3",
      "name": "python3"
    },
    "language_info": {
      "name": "python"
    }
  },
  "nbformat": 4,
  "nbformat_minor": 0
}