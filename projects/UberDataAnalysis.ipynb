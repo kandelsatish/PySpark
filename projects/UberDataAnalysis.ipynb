{
  "nbformat": 4,
  "nbformat_minor": 0,
  "metadata": {
    "colab": {
      "provenance": []
    },
    "kernelspec": {
      "name": "python3",
      "display_name": "Python 3"
    },
    "language_info": {
      "name": "python"
    }
  },
  "cells": [
    {
      "cell_type": "markdown",
      "source": [
        "# Use Case 1: Determining the Peak Trip Date\n",
        "* Objective: Identify the date with the highest number of completed trips during the two-week period.\n",
        "* Importance: Understanding peak travel dates helps allocate resources efficiently, optimize driver availability, and prepare for increased demand on specific days.\n",
        "* Outcome: A report that highlights the busiest day, helping in planning and forecasting for similar future peak dates.\n",
        "\n",
        "# Use Case 2: Maximum Trips Within a 24-Hour Period\n",
        "* Objective: Find out the highest number of completed trips in any 24-hour period within the two weeks.\n",
        "* Importance: Pinpointing the most active 24-hour period allows for better scheduling, ensuring that sufficient drivers are available during the busiest times.\n",
        "* Outcome: Insights to adjust operational strategies and increase driver availability during peak 24-hour windows.\n",
        "\n",
        "# Use Case 3: Peak Hour of the Day Analysis\n",
        "* Objective: Identify which hour of the day experienced the most trip requests throughout the two-week period.\n",
        "* Importance: This helps optimize the allocation of drivers by concentrating resources during peak demand hours to minimize waiting times for customers.\n",
        "* Outcome: Data-driven recommendations for driver shifts to ensure coverage during the highest demand periods.\n",
        "# Use Case 4: Percentage of Zeroes Occurring on Weekends\n",
        "* Objective: Calculate the percentage of zeroes (unfulfilled requests) that occur during the weekend period.\n",
        "* Importance: Understanding when and why zeroes occur allows for better planning and improves service availability during critical times, such as weekends.\n",
        "* Outcome: An actionable report that highlights when zeroes are most likely, aiding in strategy formulation to minimize service disruptions.\n",
        "\n",
        "# Use Case 5: Weighted Average Ratio of Completed Trips per Driver\n",
        "Objective: Compute the weighted average ratio of completed trips per driver across the two-week period.\n",
        "* Importance: Helps in evaluating driver performance and efficiency by accounting for trip volumes at different times, leading to fair scheduling and performance assessments.\n",
        "* Outcome: A detailed report providing insights into driver productivity and potential areas for optimizing driver allocation.\n",
        "\n",
        "# Use Case 6: Busiest 8 Consecutive Hours for Scheduling\n",
        "* Objective: Determine the busiest 8-hour consecutive period for scheduling purposes, considering unique requests.\n",
        "* Importance: Optimizing driver schedules to cover these critical 8-hour windows ensures maximum coverage and reduces wait times for customers.\n",
        "* Outcome: Recommendations for an 8-hour shift that maximizes efficiency and driver utilization while meeting peak demand.\n",
        "\n",
        "# Use Case 7: Correlation Between Driver Supply and Demand\n",
        "* Objective: Test if driver supply increases in tandem with demand increases during the two-week period.\n",
        "* Importance: Understanding this correlation allows for more accurate forecasting and ensures that driver supply matches customer demand effectively.\n",
        "* Outcome: A visual and statistical analysis validating or refuting the hypothesis, providing insights into operational adjustments.\n",
        "\n",
        "# Use Case 8: Highest Ratio of Zeroes to Eyeballs in a 72-Hour Period\n",
        "* Objective: Identify the 72-hour period with the highest ratio of zeroes (unmet requests) to eyeballs (requests made).\n",
        "* Importance: Pinpointing problematic time frames helps improve service quality by analyzing root causes and adjusting strategies for better driver availability during these periods.\n",
        "* Outcome: Targeted improvement plans for the identified 72-hour windows to reduce zeroes and enhance customer satisfaction.\n",
        "\n",
        "# Use Case 9: Optimal Hour for Adding 5 Additional Drivers\n",
        "* Objective: Determine the most critical hour each day to add 5 additional drivers to maximize service efficiency.\n",
        "* Importance: This proactive measure ensures that the supply of drivers aligns with peak demand, reducing the likelihood of unmet requests and improving overall service quality.\n",
        "* Outcome: Data-driven decision to optimize driver distribution for peak efficiency.\n",
        "\n",
        "# Use Case 10: Determining the True \"End Day\" Time\n",
        "* Objective: Analyze the data to find a more natural end-of-day time rather than midnight, based on when supply and demand are at their lowest.\n",
        "* Importance: Establishing an accurate end-of-day time aids in better reporting, scheduling, and operational planning by aligning activities with natural demand patterns.\n",
        "* Outcome: An optimized schedule based on a data-backed \"end day\" time, improving resource management and operational efficiency."
      ],
      "metadata": {
        "id": "FUIEmzJ7ptgK"
      }
    },
    {
      "cell_type": "code",
      "execution_count": 44,
      "metadata": {
        "id": "Y8hL0Jwwpn-9"
      },
      "outputs": [],
      "source": [
        "# importing necessary liberaries\n",
        "from pyspark.sql import SparkSession\n",
        "from pyspark.sql.functions import *\n",
        "import pandas as pd\n"
      ]
    },
    {
      "cell_type": "code",
      "source": [
        "spark=SparkSession.builder.appName(\"Uber Data Analysis\").getOrCreate()"
      ],
      "metadata": {
        "id": "vWxkSF_gr5C0"
      },
      "execution_count": 45,
      "outputs": []
    },
    {
      "cell_type": "code",
      "source": [
        "uber_data=spark.read.csv(\"uber_data.csv\",header=True,inferSchema=True)\n",
        "uber_data.show()"
      ],
      "metadata": {
        "id": "UyJxjaLZr_4b",
        "colab": {
          "base_uri": "https://localhost:8080/"
        },
        "outputId": "e6242936-0313-43de-843c-037f33efb5ff"
      },
      "execution_count": 46,
      "outputs": [
        {
          "output_type": "stream",
          "name": "stdout",
          "text": [
            "+---------+------------+---------+-------+----------------+---------+--------------+\n",
            "|     Date|Time (Local)|Eyeballs |Zeroes |Completed Trips |Requests |Unique Drivers|\n",
            "+---------+------------+---------+-------+----------------+---------+--------------+\n",
            "|10-Sep-12|           7|        5|      0|               2|        2|             9|\n",
            "|     NULL|           8|        6|      0|               2|        2|            14|\n",
            "|     NULL|           9|        8|      3|               0|        0|            14|\n",
            "|     NULL|          10|        9|      2|               0|        1|            14|\n",
            "|     NULL|          11|       11|      1|               4|        4|            11|\n",
            "|     NULL|          12|       12|      0|               2|        2|            11|\n",
            "|     NULL|          13|        9|      1|               0|        0|             9|\n",
            "|     NULL|          14|       12|      1|               0|        0|             9|\n",
            "|     NULL|          15|       11|      2|               1|        2|             7|\n",
            "|     NULL|          16|       11|      2|               3|        4|             6|\n",
            "|     NULL|          17|       12|      2|               3|        4|             4|\n",
            "|     NULL|          18|       11|      1|               3|        4|             7|\n",
            "|     NULL|          19|       13|      2|               2|        3|             7|\n",
            "|     NULL|          20|       11|      1|               0|        0|             5|\n",
            "|     NULL|          21|       11|      0|               1|        1|             3|\n",
            "|     NULL|          22|       16|      3|               0|        2|             4|\n",
            "|     NULL|          23|       21|      5|               3|        3|             4|\n",
            "|11-Sep-12|           0|        9|      3|               1|        1|             3|\n",
            "|     NULL|           1|        3|      2|               0|        1|             3|\n",
            "|     NULL|           2|        1|      1|               0|        0|             1|\n",
            "+---------+------------+---------+-------+----------------+---------+--------------+\n",
            "only showing top 20 rows\n",
            "\n"
          ]
        }
      ]
    },
    {
      "cell_type": "code",
      "source": [
        "from pyspark.sql.functions import col, to_date, last\n",
        "from pyspark.sql.window import Window\n",
        "from pyspark.sql.types import IntegerType\n",
        "\n",
        "# # 1. Handle Missing Dates (forward-fill)\n",
        "window_spec = Window.orderBy(\"Time (Local)\").rowsBetween(Window.unboundedPreceding, 0)\n",
        "uber_data = uber_data.withColumn(\"Date\", last(\"Date\", True).over(window_spec))\n",
        "\n",
        "# 2. Convert the Date column to the correct format\n",
        "uber_data = uber_data.withColumn(\"Date\", to_date(col(\"Date\"), \"dd-MMM-yy\"))\n",
        "\n",
        "# 3. Ensure proper data types for other columns\n",
        "uber_data = uber_data.withColumn(\"Time_Local\", col(\"Time (Local)\").cast(IntegerType())) \\\n",
        "       .withColumn(\"Eyeballs\", col(\"Eyeballs \").cast(IntegerType())) \\\n",
        "       .withColumn(\"Zeroes\", col(\"Zeroes \").cast(IntegerType())) \\\n",
        "       .withColumn(\"Completed_Trips\", col(\"Completed Trips \").cast(IntegerType())) \\\n",
        "       .withColumn(\"Requests\", col(\"Requests \").cast(IntegerType())) \\\n",
        "       .withColumn(\"Unique_Drivers\", col(\"Unique Drivers\").cast(IntegerType())) \\\n",
        "       .drop(\"Time (Local)\",\"Eyeballs \",\"Zeroes \",\"Completed Trips \",\"Requests \",\"Unique Drivers\")\n",
        "\n",
        "# Show the cleaned DataFrame\n",
        "uber_data.orderBy(\"Date\").show()\n"
      ],
      "metadata": {
        "colab": {
          "base_uri": "https://localhost:8080/"
        },
        "id": "-TKMe00tfR0D",
        "outputId": "74989859-5f70-4255-a94b-677138166107"
      },
      "execution_count": 47,
      "outputs": [
        {
          "output_type": "stream",
          "name": "stdout",
          "text": [
            "+----------+----------+--------+------+---------------+--------+--------------+\n",
            "|      Date|Time_Local|Eyeballs|Zeroes|Completed_Trips|Requests|Unique_Drivers|\n",
            "+----------+----------+--------+------+---------------+--------+--------------+\n",
            "|2012-09-10|         7|       5|     0|              2|       2|             9|\n",
            "|2012-09-10|         8|       8|     2|              1|       2|             3|\n",
            "|2012-09-10|         7|      10|     0|              2|       2|             5|\n",
            "|2012-09-10|         7|       5|     2|              2|       2|             4|\n",
            "|2012-09-10|         7|       7|     3|              0|       0|             4|\n",
            "|2012-09-10|         7|      10|     1|              1|       1|             4|\n",
            "|2012-09-10|         7|       9|     1|              2|       2|             5|\n",
            "|2012-09-10|         7|       9|     7|              1|       1|             1|\n",
            "|2012-09-10|         7|       3|     0|              0|       0|             1|\n",
            "|2012-09-10|         7|      11|     4|              0|       0|             8|\n",
            "|2012-09-10|         7|       9|     1|              3|       3|             5|\n",
            "|2012-09-10|         7|       8|     0|              2|       2|             7|\n",
            "|2012-09-10|         8|      13|    10|              2|       3|             2|\n",
            "|2012-09-10|         7|      10|     5|              2|       5|             4|\n",
            "|2012-09-10|         7|       8|     3|              0|       0|             1|\n",
            "|2012-09-10|         7|       7|     3|              2|       2|             2|\n",
            "|2012-09-10|         8|       6|     0|              2|       2|            14|\n",
            "|2012-09-10|         8|      11|     2|              0|       0|             6|\n",
            "|2012-09-10|         8|      28|     2|              8|       8|            11|\n",
            "|2012-09-10|         8|       9|     1|              1|       1|             8|\n",
            "+----------+----------+--------+------+---------------+--------+--------------+\n",
            "only showing top 20 rows\n",
            "\n"
          ]
        }
      ]
    },
    {
      "cell_type": "code",
      "source": [
        "spark.conf.set(\"spark.sql.legacy.timeParserPolicy\", \"LEGACY\")"
      ],
      "metadata": {
        "id": "CxfMwPaeQDlK"
      },
      "execution_count": 48,
      "outputs": []
    },
    {
      "cell_type": "code",
      "source": [
        "# # rename columns\n",
        "renamed_data=uber_data.withColumnRenamed(\"Date\",\"Date_of_Trip\") \\\n",
        "         .withColumnRenamed(\"Time (Local)\",\"Time_Local\") \\\n",
        "         .withColumnRenamed(\"Completed Trips\",\"Completed_Trips\") \\\n",
        "         .withColumnRenamed(\"Unique Drivers\",\"Unique_Drivers\")\n",
        "\n",
        "renamed_data.show()\n"
      ],
      "metadata": {
        "colab": {
          "base_uri": "https://localhost:8080/"
        },
        "id": "3UUrbL7VvuS9",
        "outputId": "a57a6dc8-3cab-4e8f-ed15-9daf617d7f23"
      },
      "execution_count": 49,
      "outputs": [
        {
          "output_type": "stream",
          "name": "stdout",
          "text": [
            "+------------+----------+--------+------+---------------+--------+--------------+\n",
            "|Date_of_Trip|Time_Local|Eyeballs|Zeroes|Completed_Trips|Requests|Unique_Drivers|\n",
            "+------------+----------+--------+------+---------------+--------+--------------+\n",
            "|  2012-09-11|         0|       9|     3|              1|       1|             3|\n",
            "|  2012-09-12|         0|       9|     2|              0|       1|             2|\n",
            "|  2012-09-13|         0|      11|    11|              0|       2|             0|\n",
            "|  2012-09-14|         0|      10|     1|              3|       4|             3|\n",
            "|  2012-09-15|         0|      45|     2|             23|      24|            19|\n",
            "|  2012-09-16|         0|      44|     2|             17|      20|            15|\n",
            "|  2012-09-17|         0|      11|     5|              0|       2|             2|\n",
            "|  2012-09-18|         0|      28|    18|              3|      13|             4|\n",
            "|  2012-09-19|         0|       9|     1|              0|       0|             3|\n",
            "|  2012-09-20|         0|      10|     4|              2|       3|             4|\n",
            "|  2012-09-21|         0|      22|     1|             10|      11|             9|\n",
            "|  2012-09-22|         0|      62|     4|             19|      27|            27|\n",
            "|  2012-09-23|         0|      62|    25|             23|      32|            18|\n",
            "|  2012-09-24|         0|       7|     2|              1|       2|             2|\n",
            "|  2012-09-24|         1|       3|     2|              0|       1|             3|\n",
            "|  2012-09-24|         1|       6|     0|              1|       1|             2|\n",
            "|  2012-09-24|         1|       6|     6|              0|       1|             0|\n",
            "|  2012-09-24|         1|      10|     9|              2|       5|             2|\n",
            "|  2012-09-24|         1|      37|     1|             12|      14|            18|\n",
            "|  2012-09-24|         1|      38|     3|             17|      17|            15|\n",
            "+------------+----------+--------+------+---------------+--------+--------------+\n",
            "only showing top 20 rows\n",
            "\n"
          ]
        }
      ]
    },
    {
      "cell_type": "code",
      "source": [
        "# usecase: 1\n",
        "# Group the data by date and sum the completed trips\n",
        "completed_trips_by_date = renamed_data.filter(col('Date_of_Trip').isNotNull()) \\\n",
        "                                      .groupBy(\"Date_of_Trip\").sum(\"Completed_Trips\") \\\n",
        "                                      .withColumnRenamed(\"sum(Completed_Trips)\", \"Total_Completed_Trips\") \\\n",
        "                                      .orderBy(\"Total_Completed_Trips\",ascending=False) \\\n",
        "                                      .first()\n",
        "\n",
        "print(f'''The date with maximum numbers of trip is {completed_trips_by_date['Date_of_Trip']} \\\n",
        "      The toatl numbers of trips completed were {completed_trips_by_date['Total_Completed_Trips']}''')\n"
      ],
      "metadata": {
        "id": "arFIHc5isaB9",
        "colab": {
          "base_uri": "https://localhost:8080/"
        },
        "outputId": "9333d6ec-2e1c-432f-833c-70bec5bc13fd"
      },
      "execution_count": 50,
      "outputs": [
        {
          "output_type": "stream",
          "name": "stdout",
          "text": [
            "The date with maximum numbers of trip is 2012-09-10       The toatl numbers of trips completed were 1085\n"
          ]
        }
      ]
    },
    {
      "cell_type": "code",
      "source": [
        "# usecase 2:\n",
        "from pyspark.sql.functions import sum, window\n",
        "\n",
        "# Group the data by 24-hour windows and sum the completed trips\n",
        "completed_trips_by_window = renamed_data \\\n",
        "    .groupBy(\"Time_Local\") \\\n",
        "    .agg(sum(\"Completed_Trips\").alias(\"Total_Completed_Trips\")) \\\n",
        "    .orderBy(\"Total_Completed_Trips\", ascending=False)\n",
        "\n",
        "# # Get the highest number of completed trips within a 24-hour period\n",
        "highest_completed_trips_in_24_hours = completed_trips_by_window \\\n",
        "    .select(\"Total_Completed_Trips\") \\\n",
        "    .first()[\"Total_Completed_Trips\"]\n",
        "completed_trips_by_window.show(1)\n",
        "\n"
      ],
      "metadata": {
        "id": "lTSH2wvPu5xZ",
        "colab": {
          "base_uri": "https://localhost:8080/"
        },
        "outputId": "f722cda5-d428-4e68-bf4d-6f8c1a1f13af"
      },
      "execution_count": 51,
      "outputs": [
        {
          "output_type": "stream",
          "name": "stdout",
          "text": [
            "+----------+---------------------+\n",
            "|Time_Local|Total_Completed_Trips|\n",
            "+----------+---------------------+\n",
            "|        22|                  134|\n",
            "+----------+---------------------+\n",
            "only showing top 1 row\n",
            "\n"
          ]
        }
      ]
    },
    {
      "cell_type": "code",
      "source": [
        "#usecase 3:\n",
        "hourly_requests = renamed_data.groupBy(\"Time_Local\") \\\n",
        "                              .sum(\"Requests\") \\\n",
        "                              .withColumnRenamed(\"sum(Requests)\", \"total_requests\") \\\n",
        "                              .orderBy(\"total_requests\", ascending=False)\n",
        "\n",
        "\n",
        "most_requested_hour = hourly_requests.select(\"Time_Local\").first()[0]\n",
        "print(\"The hour with the most requests is:\", most_requested_hour)"
      ],
      "metadata": {
        "colab": {
          "base_uri": "https://localhost:8080/"
        },
        "id": "nBwNio5a_PYQ",
        "outputId": "76ce8cfd-78ee-46c7-fb34-8b2075631100"
      },
      "execution_count": 52,
      "outputs": [
        {
          "output_type": "stream",
          "name": "stdout",
          "text": [
            "The hour with the most requests is: 23\n"
          ]
        }
      ]
    },
    {
      "cell_type": "code",
      "source": [
        "# Usecase 4:\n",
        "from pyspark.sql.functions import dayofweek, col, sum\n",
        "\n",
        "# # Filter for weekend (Saturday and Sunday) and the time range (after 5 PM or before 3 AM)\n",
        "weekend_zeros = renamed_data.filter(\n",
        "    ((col(\"Time_Local\") >= 17) | (col(\"Time_Local\") < 3)) &  # Time filter\n",
        "    ((dayofweek(\"Date_of_Trip\") == 7) | (dayofweek(\"Date_of_Trip\") == 1))  # Weekend filter: Saturday (7) and Sunday (1)\n",
        ").agg(sum(\"Zeroes\").alias(\"weekend_zeros\")).collect()[0][\"weekend_zeros\"]\n",
        "\n",
        "# Calculate total zeros\n",
        "total_zeros = renamed_data.agg(sum(\"Zeroes\").alias(\"total_zeros\")).collect()[0][\"total_zeros\"]\n",
        "\n",
        "\n",
        "# Calculate the percentage of weekend zeros\n",
        "percent_weekend_zeros = (weekend_zeros / total_zeros) * 100\n",
        "\n",
        "print(\"The percentage of zeros that occurred on weekends is:\", percent_weekend_zeros, \"%\")\n"
      ],
      "metadata": {
        "colab": {
          "base_uri": "https://localhost:8080/"
        },
        "id": "j2C9OsxxS936",
        "outputId": "0573449c-e895-49ac-a2ca-3e25b9b266ea"
      },
      "execution_count": 53,
      "outputs": [
        {
          "output_type": "stream",
          "name": "stdout",
          "text": [
            "The percentage of zeros that occurred on weekends is: 2.309307207837649 %\n"
          ]
        }
      ]
    },
    {
      "cell_type": "code",
      "source": [
        "weighted_avg = renamed_data.withColumn(\"completed_per_driver\", renamed_data[\"Completed_Trips\"] / renamed_data[\"Unique_Drivers\"]) \\\n",
        "                 .groupBy(\"Date_of_Trip\", \"Time_Local\") \\\n",
        "                 .agg(avg(\"completed_per_driver\").alias(\"avg_completed_per_driver\"), sum(\"Completed_Trips\").alias(\"total_completed_trips\")) \\\n",
        "                 .withColumn(\"weighted_ratio\", col(\"avg_completed_per_driver\") * col(\"total_completed_trips\")) \\\n",
        "                 .agg(sum(\"weighted_ratio\") / sum(\"total_completed_trips\")).collect()[0][0]\n",
        "\n",
        "print(\"The weighted average ratio of completed trips per driver is:\", weighted_avg)\n"
      ],
      "metadata": {
        "id": "079grMKqZCFK",
        "colab": {
          "base_uri": "https://localhost:8080/"
        },
        "outputId": "6027714d-467e-439e-ea02-53bb25acf351"
      },
      "execution_count": 54,
      "outputs": [
        {
          "output_type": "stream",
          "name": "stdout",
          "text": [
            "The weighted average ratio of completed trips per driver is: 0.6009636007707119\n"
          ]
        }
      ]
    },
    {
      "cell_type": "code",
      "source": [
        "# Usecase no 6:\n",
        "# Calculate the number of unique requests for each hour of the day\n",
        "hourly_unique_requests = (renamed_data\n",
        "  .groupBy(\"Time_Local\")\n",
        "  .agg(countDistinct(\"Requests\").alias(\"unique_requests\"))\n",
        ")\n",
        "\n",
        "# Slide a window of 8 hours to find the busiest 8 consecutive hours\n",
        "window = Window.orderBy(col(\"unique_requests\").desc()).rowsBetween(0, 7)\n",
        "busiest_8_consecutive_hours = (hourly_unique_requests\n",
        "  .select(\"*\", sum(\"unique_requests\").over(window).alias(\"consecutive_sum\"))\n",
        "  .orderBy(col(\"consecutive_sum\").desc())\n",
        "  .limit(1)\n",
        ")\n",
        "\n",
        "# Print the result\n",
        "busiest_8_consecutive_hours.show()"
      ],
      "metadata": {
        "id": "solEu-HmuUVF",
        "colab": {
          "base_uri": "https://localhost:8080/"
        },
        "outputId": "1cc9cd4b-592a-4a59-c864-e9527876920c"
      },
      "execution_count": 55,
      "outputs": [
        {
          "output_type": "stream",
          "name": "stdout",
          "text": [
            "+----------+---------------+---------------+\n",
            "|Time_Local|unique_requests|consecutive_sum|\n",
            "+----------+---------------+---------------+\n",
            "|        20|             12|             80|\n",
            "+----------+---------------+---------------+\n",
            "\n"
          ]
        }
      ]
    },
    {
      "cell_type": "code",
      "source": [
        "#Usecase 8:\n",
        "\n",
        "# Group the data by 72-hour periods and calculate the ratio of zeroes to eyeballs for each period\n",
        "period_ratios = (renamed_data\n",
        "  .groupBy(((col(\"Date_of_Trip\").cast(\"timestamp\").cast(\"long\") / (72*3600)).cast(\"int\")).alias(\"period\"))\n",
        "  .agg(sum(\"Zeroes\").alias(\"zeroes\"), sum(\"Eyeballs\").alias(\"eyeballs\"))\n",
        "  .withColumn(\"ratio\", col(\"zeroes\") / col(\"eyeballs\"))\n",
        ")\n",
        "\n",
        "# Find the period with the highest ratio\n",
        "highest_ratio_period = period_ratios.orderBy(col(\"ratio\").desc()).limit(1)\n",
        "\n",
        "# Print the result\n",
        "highest_ratio_period.show()"
      ],
      "metadata": {
        "id": "gGyZ5gLtWm6Y"
      },
      "execution_count": null,
      "outputs": []
    },
    {
      "cell_type": "code",
      "source": [
        "# Usecase 9:\n",
        "# Calculate requests per unique driver for each hour\n",
        "requests_per_driver = (renamed_data.groupBy('Time_Local').agg(\n",
        "    (sum('Requests') / countDistinct('Unique_Drivers')).alias('requests_per_driver'))\n",
        ")\n",
        "\n",
        "# Show the hour with the highest ratio\n",
        "requests_per_driver.orderBy(desc('requests_per_driver')).show(1)"
      ],
      "metadata": {
        "id": "9-6nqE1fYELT"
      },
      "execution_count": null,
      "outputs": []
    },
    {
      "cell_type": "code",
      "source": [
        "# Usecase 10:\n",
        "# Calculate average completed trips and unique drivers for each hour\n",
        "avg_trips_and_drivers = (renamed_data.groupBy('Time_Local').agg(\n",
        "    mean('Completed_Trips').alias('avg_completed_trips'),\n",
        "    mean('Unique_Drivers').alias('avg_unique_drivers')\n",
        "))\n",
        "\n",
        "# Show the hour with the lowest average completed trips and unique drivers\n",
        "avg_trips_and_drivers.orderBy('avg_completed_trips', 'avg_unique_drivers').show(1)"
      ],
      "metadata": {
        "id": "H4eDbE7CYZQ1"
      },
      "execution_count": null,
      "outputs": []
    },
    {
      "cell_type": "code",
      "source": [],
      "metadata": {
        "id": "Wwep-c1mYr4j"
      },
      "execution_count": null,
      "outputs": []
    }
  ]
}